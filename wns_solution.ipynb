{
 "cells": [
  {
   "cell_type": "code",
   "execution_count": 1,
   "metadata": {},
   "outputs": [
    {
     "name": "stderr",
     "output_type": "stream",
     "text": [
      "C:\\Users\\MERCER\\Anaconda3\\lib\\site-packages\\dask\\config.py:168: YAMLLoadWarning:\n",
      "\n",
      "calling yaml.load() without Loader=... is deprecated, as the default Loader is unsafe. Please read https://msg.pyyaml.org/load for full details.\n",
      "\n"
     ]
    },
    {
     "data": {
      "text/html": [
       "        <script type=\"text/javascript\">\n",
       "        window.PlotlyConfig = {MathJaxConfig: 'local'};\n",
       "        if (window.MathJax) {MathJax.Hub.Config({SVG: {font: \"STIX-Web\"}});}\n",
       "        if (typeof require !== 'undefined') {\n",
       "        require.undef(\"plotly\");\n",
       "        requirejs.config({\n",
       "            paths: {\n",
       "                'plotly': ['https://cdn.plot.ly/plotly-latest.min']\n",
       "            }\n",
       "        });\n",
       "        require(['plotly'], function(Plotly) {\n",
       "            window._Plotly = Plotly;\n",
       "        });\n",
       "        }\n",
       "        </script>\n",
       "        "
      ]
     },
     "metadata": {},
     "output_type": "display_data"
    }
   ],
   "source": [
    "#import all the necessary packages.\n",
    "\n",
    "from PIL import Image\n",
    "import requests\n",
    "from io import BytesIO\n",
    "import matplotlib.pyplot as plt\n",
    "import numpy as np\n",
    "import pandas as pd\n",
    "import warnings\n",
    "from bs4 import BeautifulSoup\n",
    "from nltk.corpus import stopwords\n",
    "from nltk.tokenize import word_tokenize\n",
    "import nltk\n",
    "import math\n",
    "import time\n",
    "import re\n",
    "import os\n",
    "import seaborn as sns\n",
    "from collections import Counter\n",
    "from sklearn.feature_extraction.text import CountVectorizer\n",
    "from sklearn.feature_extraction.text import TfidfVectorizer\n",
    "from sklearn.metrics.pairwise import cosine_similarity  \n",
    "from sklearn.metrics import pairwise_distances\n",
    "from matplotlib import gridspec\n",
    "from scipy.sparse import hstack\n",
    "import plotly\n",
    "import plotly.figure_factory as ff\n",
    "from plotly.graph_objs import Scatter, Layout\n",
    "\n",
    "from sklearn.metrics import accuracy_score\n",
    "from sklearn.metrics import precision_score\n",
    "from sklearn.metrics import recall_score\n",
    "from sklearn.metrics import roc_auc_score\n",
    "from sklearn.metrics import f1_score\n",
    "\n",
    "from xgboost import plot_importance\n",
    "import numpy as np\n",
    "from sklearn.metrics import confusion_matrix\n",
    "\n",
    "plotly.offline.init_notebook_mode(connected=True)\n",
    "warnings.filterwarnings(\"ignore\")"
   ]
  },
  {
   "cell_type": "markdown",
   "metadata": {},
   "source": [
    "# Read all train datasets"
   ]
  },
  {
   "cell_type": "code",
   "execution_count": 2,
   "metadata": {},
   "outputs": [],
   "source": [
    "train_data = pd.read_csv(\"Train/train.csv\")\n",
    "view_log = pd.read_csv(\"Train/view_log.csv\")\n",
    "item_data = pd.read_csv(\"Train/item_data.csv\")"
   ]
  },
  {
   "cell_type": "code",
   "execution_count": 3,
   "metadata": {},
   "outputs": [
    {
     "data": {
      "text/html": [
       "<div>\n",
       "<style scoped>\n",
       "    .dataframe tbody tr th:only-of-type {\n",
       "        vertical-align: middle;\n",
       "    }\n",
       "\n",
       "    .dataframe tbody tr th {\n",
       "        vertical-align: top;\n",
       "    }\n",
       "\n",
       "    .dataframe thead th {\n",
       "        text-align: right;\n",
       "    }\n",
       "</style>\n",
       "<table border=\"1\" class=\"dataframe\">\n",
       "  <thead>\n",
       "    <tr style=\"text-align: right;\">\n",
       "      <th></th>\n",
       "      <th>impression_id</th>\n",
       "      <th>impression_time</th>\n",
       "      <th>user_id</th>\n",
       "      <th>app_code</th>\n",
       "      <th>os_version</th>\n",
       "      <th>is_4G</th>\n",
       "      <th>is_click</th>\n",
       "    </tr>\n",
       "  </thead>\n",
       "  <tbody>\n",
       "    <tr>\n",
       "      <th>0</th>\n",
       "      <td>c4ca4238a0b923820dcc509a6f75849b</td>\n",
       "      <td>2018-11-15 00:00:00</td>\n",
       "      <td>87862</td>\n",
       "      <td>422</td>\n",
       "      <td>old</td>\n",
       "      <td>0</td>\n",
       "      <td>0</td>\n",
       "    </tr>\n",
       "    <tr>\n",
       "      <th>1</th>\n",
       "      <td>45c48cce2e2d7fbdea1afc51c7c6ad26</td>\n",
       "      <td>2018-11-15 00:01:00</td>\n",
       "      <td>63410</td>\n",
       "      <td>467</td>\n",
       "      <td>latest</td>\n",
       "      <td>1</td>\n",
       "      <td>1</td>\n",
       "    </tr>\n",
       "    <tr>\n",
       "      <th>2</th>\n",
       "      <td>70efdf2ec9b086079795c442636b55fb</td>\n",
       "      <td>2018-11-15 00:02:00</td>\n",
       "      <td>71748</td>\n",
       "      <td>259</td>\n",
       "      <td>intermediate</td>\n",
       "      <td>1</td>\n",
       "      <td>0</td>\n",
       "    </tr>\n",
       "  </tbody>\n",
       "</table>\n",
       "</div>"
      ],
      "text/plain": [
       "                      impression_id      impression_time  user_id  app_code  \\\n",
       "0  c4ca4238a0b923820dcc509a6f75849b  2018-11-15 00:00:00    87862       422   \n",
       "1  45c48cce2e2d7fbdea1afc51c7c6ad26  2018-11-15 00:01:00    63410       467   \n",
       "2  70efdf2ec9b086079795c442636b55fb  2018-11-15 00:02:00    71748       259   \n",
       "\n",
       "     os_version  is_4G  is_click  \n",
       "0           old      0         0  \n",
       "1        latest      1         1  \n",
       "2  intermediate      1         0  "
      ]
     },
     "execution_count": 3,
     "metadata": {},
     "output_type": "execute_result"
    }
   ],
   "source": [
    "train_data.head(3)"
   ]
  },
  {
   "cell_type": "code",
   "execution_count": 4,
   "metadata": {},
   "outputs": [
    {
     "data": {
      "text/plain": [
       "74723"
      ]
     },
     "execution_count": 4,
     "metadata": {},
     "output_type": "execute_result"
    }
   ],
   "source": [
    "len(train_data.user_id.unique())"
   ]
  },
  {
   "cell_type": "code",
   "execution_count": 5,
   "metadata": {},
   "outputs": [
    {
     "data": {
      "text/plain": [
       "(126708, 132761)"
      ]
     },
     "execution_count": 5,
     "metadata": {},
     "output_type": "execute_result"
    }
   ],
   "source": [
    "# Total Number of unique item_id in view log and item_data\n",
    "len(view_log.groupby(\"item_id\")),len(item_data.groupby(\"item_id\"))"
   ]
  },
  {
   "cell_type": "markdown",
   "metadata": {},
   "source": [
    "# Read test data"
   ]
  },
  {
   "cell_type": "code",
   "execution_count": 6,
   "metadata": {},
   "outputs": [
    {
     "data": {
      "text/html": [
       "<div>\n",
       "<style scoped>\n",
       "    .dataframe tbody tr th:only-of-type {\n",
       "        vertical-align: middle;\n",
       "    }\n",
       "\n",
       "    .dataframe tbody tr th {\n",
       "        vertical-align: top;\n",
       "    }\n",
       "\n",
       "    .dataframe thead th {\n",
       "        text-align: right;\n",
       "    }\n",
       "</style>\n",
       "<table border=\"1\" class=\"dataframe\">\n",
       "  <thead>\n",
       "    <tr style=\"text-align: right;\">\n",
       "      <th></th>\n",
       "      <th>impression_id</th>\n",
       "      <th>impression_time</th>\n",
       "      <th>user_id</th>\n",
       "      <th>app_code</th>\n",
       "      <th>os_version</th>\n",
       "      <th>is_4G</th>\n",
       "    </tr>\n",
       "  </thead>\n",
       "  <tbody>\n",
       "    <tr>\n",
       "      <th>0</th>\n",
       "      <td>a9e7126a585a69a32bc7414e9d0c0ada</td>\n",
       "      <td>2018-12-13 07:44:00</td>\n",
       "      <td>44754</td>\n",
       "      <td>127</td>\n",
       "      <td>latest</td>\n",
       "      <td>1</td>\n",
       "    </tr>\n",
       "    <tr>\n",
       "      <th>1</th>\n",
       "      <td>caac14a5bf2ba283db7708bb34855760</td>\n",
       "      <td>2018-12-13 07:45:00</td>\n",
       "      <td>29656</td>\n",
       "      <td>44</td>\n",
       "      <td>latest</td>\n",
       "      <td>0</td>\n",
       "    </tr>\n",
       "    <tr>\n",
       "      <th>2</th>\n",
       "      <td>13f10ba306a19ce7bec2f3cae507b698</td>\n",
       "      <td>2018-12-13 07:46:00</td>\n",
       "      <td>25234</td>\n",
       "      <td>296</td>\n",
       "      <td>latest</td>\n",
       "      <td>1</td>\n",
       "    </tr>\n",
       "  </tbody>\n",
       "</table>\n",
       "</div>"
      ],
      "text/plain": [
       "                      impression_id      impression_time  user_id  app_code  \\\n",
       "0  a9e7126a585a69a32bc7414e9d0c0ada  2018-12-13 07:44:00    44754       127   \n",
       "1  caac14a5bf2ba283db7708bb34855760  2018-12-13 07:45:00    29656        44   \n",
       "2  13f10ba306a19ce7bec2f3cae507b698  2018-12-13 07:46:00    25234       296   \n",
       "\n",
       "  os_version  is_4G  \n",
       "0     latest      1  \n",
       "1     latest      0  \n",
       "2     latest      1  "
      ]
     },
     "execution_count": 6,
     "metadata": {},
     "output_type": "execute_result"
    }
   ],
   "source": [
    "test_data = pd.read_csv(\"Test/test.csv\")\n",
    "test_data.head(3)"
   ]
  },
  {
   "cell_type": "code",
   "execution_count": 7,
   "metadata": {},
   "outputs": [
    {
     "data": {
      "text/plain": [
       "((237609, 7), (3118622, 5), (132761, 6), (90675, 6))"
      ]
     },
     "execution_count": 7,
     "metadata": {},
     "output_type": "execute_result"
    }
   ],
   "source": [
    "train_data.shape,view_log.shape,item_data.shape,test_data.shape"
   ]
  },
  {
   "cell_type": "code",
   "execution_count": 8,
   "metadata": {},
   "outputs": [
    {
     "name": "stdout",
     "output_type": "stream",
     "text": [
      "Number of user_id common in train & view_log data  True    237609\n",
      "Name: user_id, dtype: int64\n",
      "********************************************************************************\n",
      "Number of user_id common in test & view_log data  True    90675\n",
      "Name: user_id, dtype: int64\n"
     ]
    }
   ],
   "source": [
    "# Check number of common user_id in train & view_log or in test and view_log\n",
    "\n",
    "print(\"Number of user_id common in train & view_log data \",train_data['user_id'].isin(view_log['user_id']).value_counts())\n",
    "print(\"*\"*80)\n",
    "\n",
    "print(\"Number of user_id common in test & view_log data \",test_data['user_id'].isin(view_log['user_id']).value_counts())"
   ]
  },
  {
   "cell_type": "markdown",
   "metadata": {},
   "source": [
    "# Merge train_data & view_log data"
   ]
  },
  {
   "cell_type": "code",
   "execution_count": 9,
   "metadata": {},
   "outputs": [
    {
     "data": {
      "text/plain": [
       "((237609, 7), (3118622, 5))"
      ]
     },
     "execution_count": 9,
     "metadata": {},
     "output_type": "execute_result"
    }
   ],
   "source": [
    "train_data.shape,view_log.shape"
   ]
  },
  {
   "cell_type": "code",
   "execution_count": 10,
   "metadata": {
    "scrolled": true
   },
   "outputs": [
    {
     "name": "stdout",
     "output_type": "stream",
     "text": [
      "Shape of train_view_data :  (11052882, 11)\n"
     ]
    },
    {
     "data": {
      "text/html": [
       "<div>\n",
       "<style scoped>\n",
       "    .dataframe tbody tr th:only-of-type {\n",
       "        vertical-align: middle;\n",
       "    }\n",
       "\n",
       "    .dataframe tbody tr th {\n",
       "        vertical-align: top;\n",
       "    }\n",
       "\n",
       "    .dataframe thead th {\n",
       "        text-align: right;\n",
       "    }\n",
       "</style>\n",
       "<table border=\"1\" class=\"dataframe\">\n",
       "  <thead>\n",
       "    <tr style=\"text-align: right;\">\n",
       "      <th></th>\n",
       "      <th>impression_id</th>\n",
       "      <th>impression_time</th>\n",
       "      <th>user_id</th>\n",
       "      <th>app_code</th>\n",
       "      <th>os_version</th>\n",
       "      <th>is_4G</th>\n",
       "      <th>is_click</th>\n",
       "      <th>server_time</th>\n",
       "      <th>device_type</th>\n",
       "      <th>session_id</th>\n",
       "      <th>item_id</th>\n",
       "    </tr>\n",
       "  </thead>\n",
       "  <tbody>\n",
       "    <tr>\n",
       "      <th>0</th>\n",
       "      <td>c4ca4238a0b923820dcc509a6f75849b</td>\n",
       "      <td>2018-11-15 00:00:00</td>\n",
       "      <td>87862</td>\n",
       "      <td>422</td>\n",
       "      <td>old</td>\n",
       "      <td>0</td>\n",
       "      <td>0</td>\n",
       "      <td>2018-10-19 18:11:00</td>\n",
       "      <td>android</td>\n",
       "      <td>190710</td>\n",
       "      <td>43886</td>\n",
       "    </tr>\n",
       "    <tr>\n",
       "      <th>1</th>\n",
       "      <td>45c48cce2e2d7fbdea1afc51c7c6ad26</td>\n",
       "      <td>2018-11-15 00:01:00</td>\n",
       "      <td>63410</td>\n",
       "      <td>467</td>\n",
       "      <td>latest</td>\n",
       "      <td>1</td>\n",
       "      <td>1</td>\n",
       "      <td>2018-10-21 06:13:00</td>\n",
       "      <td>android</td>\n",
       "      <td>356854</td>\n",
       "      <td>43209</td>\n",
       "    </tr>\n",
       "    <tr>\n",
       "      <th>2</th>\n",
       "      <td>45c48cce2e2d7fbdea1afc51c7c6ad26</td>\n",
       "      <td>2018-11-15 00:01:00</td>\n",
       "      <td>63410</td>\n",
       "      <td>467</td>\n",
       "      <td>latest</td>\n",
       "      <td>1</td>\n",
       "      <td>1</td>\n",
       "      <td>2018-10-21 06:13:00</td>\n",
       "      <td>android</td>\n",
       "      <td>356854</td>\n",
       "      <td>66370</td>\n",
       "    </tr>\n",
       "  </tbody>\n",
       "</table>\n",
       "</div>"
      ],
      "text/plain": [
       "                      impression_id      impression_time  user_id  app_code  \\\n",
       "0  c4ca4238a0b923820dcc509a6f75849b  2018-11-15 00:00:00    87862       422   \n",
       "1  45c48cce2e2d7fbdea1afc51c7c6ad26  2018-11-15 00:01:00    63410       467   \n",
       "2  45c48cce2e2d7fbdea1afc51c7c6ad26  2018-11-15 00:01:00    63410       467   \n",
       "\n",
       "  os_version  is_4G  is_click          server_time device_type  session_id  \\\n",
       "0        old      0         0  2018-10-19 18:11:00     android      190710   \n",
       "1     latest      1         1  2018-10-21 06:13:00     android      356854   \n",
       "2     latest      1         1  2018-10-21 06:13:00     android      356854   \n",
       "\n",
       "   item_id  \n",
       "0    43886  \n",
       "1    43209  \n",
       "2    66370  "
      ]
     },
     "execution_count": 10,
     "metadata": {},
     "output_type": "execute_result"
    }
   ],
   "source": [
    "train_view_data = train_data.merge(view_log,on = 'user_id',how = 'left')\n",
    "\n",
    "print(\"Shape of train_view_data : \",train_view_data.shape)\n",
    "\n",
    "train_view_data.head(3)"
   ]
  },
  {
   "cell_type": "code",
   "execution_count": 11,
   "metadata": {},
   "outputs": [
    {
     "data": {
      "text/plain": [
       "(132761, 6)"
      ]
     },
     "execution_count": 11,
     "metadata": {},
     "output_type": "execute_result"
    }
   ],
   "source": [
    "item_data.shape"
   ]
  },
  {
   "cell_type": "code",
   "execution_count": 12,
   "metadata": {},
   "outputs": [
    {
     "name": "stdout",
     "output_type": "stream",
     "text": [
      "Total no. of unique item_id: 117249\n"
     ]
    }
   ],
   "source": [
    "# Total Number of unique item_id in train_view_data\n",
    "print( 'Total no. of unique item_id:',len(train_view_data.groupby(\"item_id\")))\n"
   ]
  },
  {
   "cell_type": "code",
   "execution_count": 13,
   "metadata": {},
   "outputs": [
    {
     "name": "stdout",
     "output_type": "stream",
     "text": [
      "Shape of train_view_data :  (3871697, 10)\n"
     ]
    },
    {
     "data": {
      "text/html": [
       "<div>\n",
       "<style scoped>\n",
       "    .dataframe tbody tr th:only-of-type {\n",
       "        vertical-align: middle;\n",
       "    }\n",
       "\n",
       "    .dataframe tbody tr th {\n",
       "        vertical-align: top;\n",
       "    }\n",
       "\n",
       "    .dataframe thead th {\n",
       "        text-align: right;\n",
       "    }\n",
       "</style>\n",
       "<table border=\"1\" class=\"dataframe\">\n",
       "  <thead>\n",
       "    <tr style=\"text-align: right;\">\n",
       "      <th></th>\n",
       "      <th>impression_id</th>\n",
       "      <th>impression_time</th>\n",
       "      <th>user_id</th>\n",
       "      <th>app_code</th>\n",
       "      <th>os_version</th>\n",
       "      <th>is_4G</th>\n",
       "      <th>server_time</th>\n",
       "      <th>device_type</th>\n",
       "      <th>session_id</th>\n",
       "      <th>item_id</th>\n",
       "    </tr>\n",
       "  </thead>\n",
       "  <tbody>\n",
       "    <tr>\n",
       "      <th>0</th>\n",
       "      <td>a9e7126a585a69a32bc7414e9d0c0ada</td>\n",
       "      <td>2018-12-13 07:44:00</td>\n",
       "      <td>44754</td>\n",
       "      <td>127</td>\n",
       "      <td>latest</td>\n",
       "      <td>1</td>\n",
       "      <td>2018-12-11 19:01:00</td>\n",
       "      <td>android</td>\n",
       "      <td>923045</td>\n",
       "      <td>128995</td>\n",
       "    </tr>\n",
       "    <tr>\n",
       "      <th>1</th>\n",
       "      <td>caac14a5bf2ba283db7708bb34855760</td>\n",
       "      <td>2018-12-13 07:45:00</td>\n",
       "      <td>29656</td>\n",
       "      <td>44</td>\n",
       "      <td>latest</td>\n",
       "      <td>0</td>\n",
       "      <td>2018-10-16 10:47:00</td>\n",
       "      <td>android</td>\n",
       "      <td>368797</td>\n",
       "      <td>55912</td>\n",
       "    </tr>\n",
       "    <tr>\n",
       "      <th>2</th>\n",
       "      <td>caac14a5bf2ba283db7708bb34855760</td>\n",
       "      <td>2018-12-13 07:45:00</td>\n",
       "      <td>29656</td>\n",
       "      <td>44</td>\n",
       "      <td>latest</td>\n",
       "      <td>0</td>\n",
       "      <td>2018-10-16 10:48:00</td>\n",
       "      <td>android</td>\n",
       "      <td>368797</td>\n",
       "      <td>80771</td>\n",
       "    </tr>\n",
       "  </tbody>\n",
       "</table>\n",
       "</div>"
      ],
      "text/plain": [
       "                      impression_id      impression_time  user_id  app_code  \\\n",
       "0  a9e7126a585a69a32bc7414e9d0c0ada  2018-12-13 07:44:00    44754       127   \n",
       "1  caac14a5bf2ba283db7708bb34855760  2018-12-13 07:45:00    29656        44   \n",
       "2  caac14a5bf2ba283db7708bb34855760  2018-12-13 07:45:00    29656        44   \n",
       "\n",
       "  os_version  is_4G          server_time device_type  session_id  item_id  \n",
       "0     latest      1  2018-12-11 19:01:00     android      923045   128995  \n",
       "1     latest      0  2018-10-16 10:47:00     android      368797    55912  \n",
       "2     latest      0  2018-10-16 10:48:00     android      368797    80771  "
      ]
     },
     "execution_count": 13,
     "metadata": {},
     "output_type": "execute_result"
    }
   ],
   "source": [
    "test_view_data = test_data.merge(view_log,on = 'user_id',how = 'left')\n",
    "\n",
    "print(\"Shape of train_view_data : \",test_view_data.shape)\n",
    "\n",
    "test_view_data.head(3)"
   ]
  },
  {
   "cell_type": "code",
   "execution_count": 14,
   "metadata": {},
   "outputs": [
    {
     "name": "stdout",
     "output_type": "stream",
     "text": [
      "Number of item_id common in train_view_data & item_data   True     11046039\n",
      "False        6843\n",
      "Name: item_id, dtype: int64\n",
      "********************************************************************************\n",
      "Number of item_id common in test_view_data & item_data   True     3869280\n",
      "False       2417\n",
      "Name: item_id, dtype: int64\n"
     ]
    }
   ],
   "source": [
    "# Check number of common user_id in train & view_log or in test and view_log\n",
    "\n",
    "print(\"Number of item_id common in train_view_data & item_data  \",train_view_data['item_id'].isin(item_data['item_id']).value_counts())\n",
    "print(\"*\"*80)\n",
    "\n",
    "print(\"Number of item_id common in test_view_data & item_data  \",test_view_data['item_id'].isin(item_data['item_id']).value_counts())"
   ]
  },
  {
   "cell_type": "code",
   "execution_count": 15,
   "metadata": {},
   "outputs": [
    {
     "data": {
      "text/plain": [
       "(132761, (132761, 6))"
      ]
     },
     "execution_count": 15,
     "metadata": {},
     "output_type": "execute_result"
    }
   ],
   "source": [
    "len(item_data.item_id.unique()),item_data.shape"
   ]
  },
  {
   "cell_type": "code",
   "execution_count": 16,
   "metadata": {},
   "outputs": [
    {
     "data": {
      "text/plain": [
       "(117249, (11052882, 11))"
      ]
     },
     "execution_count": 16,
     "metadata": {},
     "output_type": "execute_result"
    }
   ],
   "source": [
    "len(train_view_data.item_id.unique()),train_view_data.shape"
   ]
  },
  {
   "cell_type": "code",
   "execution_count": 17,
   "metadata": {},
   "outputs": [
    {
     "name": "stdout",
     "output_type": "stream",
     "text": [
      "Shape of train_view_data :  (11052882, 16)\n"
     ]
    },
    {
     "data": {
      "text/html": [
       "<div>\n",
       "<style scoped>\n",
       "    .dataframe tbody tr th:only-of-type {\n",
       "        vertical-align: middle;\n",
       "    }\n",
       "\n",
       "    .dataframe tbody tr th {\n",
       "        vertical-align: top;\n",
       "    }\n",
       "\n",
       "    .dataframe thead th {\n",
       "        text-align: right;\n",
       "    }\n",
       "</style>\n",
       "<table border=\"1\" class=\"dataframe\">\n",
       "  <thead>\n",
       "    <tr style=\"text-align: right;\">\n",
       "      <th></th>\n",
       "      <th>impression_id</th>\n",
       "      <th>impression_time</th>\n",
       "      <th>user_id</th>\n",
       "      <th>app_code</th>\n",
       "      <th>os_version</th>\n",
       "      <th>is_4G</th>\n",
       "      <th>is_click</th>\n",
       "      <th>server_time</th>\n",
       "      <th>device_type</th>\n",
       "      <th>session_id</th>\n",
       "      <th>item_id</th>\n",
       "      <th>item_price</th>\n",
       "      <th>category_1</th>\n",
       "      <th>category_2</th>\n",
       "      <th>category_3</th>\n",
       "      <th>product_type</th>\n",
       "    </tr>\n",
       "  </thead>\n",
       "  <tbody>\n",
       "    <tr>\n",
       "      <th>0</th>\n",
       "      <td>c4ca4238a0b923820dcc509a6f75849b</td>\n",
       "      <td>2018-11-15 00:00:00</td>\n",
       "      <td>87862</td>\n",
       "      <td>422</td>\n",
       "      <td>old</td>\n",
       "      <td>0</td>\n",
       "      <td>0</td>\n",
       "      <td>2018-10-19 18:11:00</td>\n",
       "      <td>android</td>\n",
       "      <td>190710</td>\n",
       "      <td>43886</td>\n",
       "      <td>2350.0</td>\n",
       "      <td>11.0</td>\n",
       "      <td>35.0</td>\n",
       "      <td>20.0</td>\n",
       "      <td>5622.0</td>\n",
       "    </tr>\n",
       "    <tr>\n",
       "      <th>1</th>\n",
       "      <td>45c48cce2e2d7fbdea1afc51c7c6ad26</td>\n",
       "      <td>2018-11-15 00:01:00</td>\n",
       "      <td>63410</td>\n",
       "      <td>467</td>\n",
       "      <td>latest</td>\n",
       "      <td>1</td>\n",
       "      <td>1</td>\n",
       "      <td>2018-10-21 06:13:00</td>\n",
       "      <td>android</td>\n",
       "      <td>356854</td>\n",
       "      <td>43209</td>\n",
       "      <td>3421.0</td>\n",
       "      <td>4.0</td>\n",
       "      <td>74.0</td>\n",
       "      <td>292.0</td>\n",
       "      <td>577.0</td>\n",
       "    </tr>\n",
       "    <tr>\n",
       "      <th>2</th>\n",
       "      <td>45c48cce2e2d7fbdea1afc51c7c6ad26</td>\n",
       "      <td>2018-11-15 00:01:00</td>\n",
       "      <td>63410</td>\n",
       "      <td>467</td>\n",
       "      <td>latest</td>\n",
       "      <td>1</td>\n",
       "      <td>1</td>\n",
       "      <td>2018-10-21 06:13:00</td>\n",
       "      <td>android</td>\n",
       "      <td>356854</td>\n",
       "      <td>66370</td>\n",
       "      <td>14166.0</td>\n",
       "      <td>4.0</td>\n",
       "      <td>74.0</td>\n",
       "      <td>292.0</td>\n",
       "      <td>3399.0</td>\n",
       "    </tr>\n",
       "  </tbody>\n",
       "</table>\n",
       "</div>"
      ],
      "text/plain": [
       "                      impression_id      impression_time  user_id  app_code  \\\n",
       "0  c4ca4238a0b923820dcc509a6f75849b  2018-11-15 00:00:00    87862       422   \n",
       "1  45c48cce2e2d7fbdea1afc51c7c6ad26  2018-11-15 00:01:00    63410       467   \n",
       "2  45c48cce2e2d7fbdea1afc51c7c6ad26  2018-11-15 00:01:00    63410       467   \n",
       "\n",
       "  os_version  is_4G  is_click          server_time device_type  session_id  \\\n",
       "0        old      0         0  2018-10-19 18:11:00     android      190710   \n",
       "1     latest      1         1  2018-10-21 06:13:00     android      356854   \n",
       "2     latest      1         1  2018-10-21 06:13:00     android      356854   \n",
       "\n",
       "   item_id  item_price  category_1  category_2  category_3  product_type  \n",
       "0    43886      2350.0        11.0        35.0        20.0        5622.0  \n",
       "1    43209      3421.0         4.0        74.0       292.0         577.0  \n",
       "2    66370     14166.0         4.0        74.0       292.0        3399.0  "
      ]
     },
     "execution_count": 17,
     "metadata": {},
     "output_type": "execute_result"
    }
   ],
   "source": [
    "train_final = train_view_data.merge(item_data,on = 'item_id',how = 'left')\n",
    "\n",
    "print(\"Shape of train_view_data : \",train_final.shape)\n",
    "\n",
    "train_final.head(3)"
   ]
  },
  {
   "cell_type": "code",
   "execution_count": 18,
   "metadata": {},
   "outputs": [
    {
     "data": {
      "text/plain": [
       "impression_id         0\n",
       "impression_time       0\n",
       "user_id               0\n",
       "app_code              0\n",
       "os_version            0\n",
       "is_4G                 0\n",
       "is_click              0\n",
       "server_time           0\n",
       "device_type           0\n",
       "session_id            0\n",
       "item_id               0\n",
       "item_price         6843\n",
       "category_1         6843\n",
       "category_2         6843\n",
       "category_3         6843\n",
       "product_type       6843\n",
       "dtype: int64"
      ]
     },
     "execution_count": 18,
     "metadata": {},
     "output_type": "execute_result"
    }
   ],
   "source": [
    "train_final.isnull().sum()"
   ]
  },
  {
   "cell_type": "code",
   "execution_count": 19,
   "metadata": {},
   "outputs": [
    {
     "name": "stdout",
     "output_type": "stream",
     "text": [
      "Shape of train_view_data :  (3871697, 15)\n"
     ]
    },
    {
     "data": {
      "text/html": [
       "<div>\n",
       "<style scoped>\n",
       "    .dataframe tbody tr th:only-of-type {\n",
       "        vertical-align: middle;\n",
       "    }\n",
       "\n",
       "    .dataframe tbody tr th {\n",
       "        vertical-align: top;\n",
       "    }\n",
       "\n",
       "    .dataframe thead th {\n",
       "        text-align: right;\n",
       "    }\n",
       "</style>\n",
       "<table border=\"1\" class=\"dataframe\">\n",
       "  <thead>\n",
       "    <tr style=\"text-align: right;\">\n",
       "      <th></th>\n",
       "      <th>impression_id</th>\n",
       "      <th>impression_time</th>\n",
       "      <th>user_id</th>\n",
       "      <th>app_code</th>\n",
       "      <th>os_version</th>\n",
       "      <th>is_4G</th>\n",
       "      <th>server_time</th>\n",
       "      <th>device_type</th>\n",
       "      <th>session_id</th>\n",
       "      <th>item_id</th>\n",
       "      <th>item_price</th>\n",
       "      <th>category_1</th>\n",
       "      <th>category_2</th>\n",
       "      <th>category_3</th>\n",
       "      <th>product_type</th>\n",
       "    </tr>\n",
       "  </thead>\n",
       "  <tbody>\n",
       "    <tr>\n",
       "      <th>0</th>\n",
       "      <td>a9e7126a585a69a32bc7414e9d0c0ada</td>\n",
       "      <td>2018-12-13 07:44:00</td>\n",
       "      <td>44754</td>\n",
       "      <td>127</td>\n",
       "      <td>latest</td>\n",
       "      <td>1</td>\n",
       "      <td>2018-12-11 19:01:00</td>\n",
       "      <td>android</td>\n",
       "      <td>923045</td>\n",
       "      <td>128995</td>\n",
       "      <td>23424.0</td>\n",
       "      <td>1.0</td>\n",
       "      <td>42.0</td>\n",
       "      <td>220.0</td>\n",
       "      <td>1617.0</td>\n",
       "    </tr>\n",
       "    <tr>\n",
       "      <th>1</th>\n",
       "      <td>caac14a5bf2ba283db7708bb34855760</td>\n",
       "      <td>2018-12-13 07:45:00</td>\n",
       "      <td>29656</td>\n",
       "      <td>44</td>\n",
       "      <td>latest</td>\n",
       "      <td>0</td>\n",
       "      <td>2018-10-16 10:47:00</td>\n",
       "      <td>android</td>\n",
       "      <td>368797</td>\n",
       "      <td>55912</td>\n",
       "      <td>1529.0</td>\n",
       "      <td>9.0</td>\n",
       "      <td>44.0</td>\n",
       "      <td>114.0</td>\n",
       "      <td>9857.0</td>\n",
       "    </tr>\n",
       "    <tr>\n",
       "      <th>2</th>\n",
       "      <td>caac14a5bf2ba283db7708bb34855760</td>\n",
       "      <td>2018-12-13 07:45:00</td>\n",
       "      <td>29656</td>\n",
       "      <td>44</td>\n",
       "      <td>latest</td>\n",
       "      <td>0</td>\n",
       "      <td>2018-10-16 10:48:00</td>\n",
       "      <td>android</td>\n",
       "      <td>368797</td>\n",
       "      <td>80771</td>\n",
       "      <td>11697.0</td>\n",
       "      <td>9.0</td>\n",
       "      <td>3.0</td>\n",
       "      <td>48.0</td>\n",
       "      <td>6347.0</td>\n",
       "    </tr>\n",
       "  </tbody>\n",
       "</table>\n",
       "</div>"
      ],
      "text/plain": [
       "                      impression_id      impression_time  user_id  app_code  \\\n",
       "0  a9e7126a585a69a32bc7414e9d0c0ada  2018-12-13 07:44:00    44754       127   \n",
       "1  caac14a5bf2ba283db7708bb34855760  2018-12-13 07:45:00    29656        44   \n",
       "2  caac14a5bf2ba283db7708bb34855760  2018-12-13 07:45:00    29656        44   \n",
       "\n",
       "  os_version  is_4G          server_time device_type  session_id  item_id  \\\n",
       "0     latest      1  2018-12-11 19:01:00     android      923045   128995   \n",
       "1     latest      0  2018-10-16 10:47:00     android      368797    55912   \n",
       "2     latest      0  2018-10-16 10:48:00     android      368797    80771   \n",
       "\n",
       "   item_price  category_1  category_2  category_3  product_type  \n",
       "0     23424.0         1.0        42.0       220.0        1617.0  \n",
       "1      1529.0         9.0        44.0       114.0        9857.0  \n",
       "2     11697.0         9.0         3.0        48.0        6347.0  "
      ]
     },
     "execution_count": 19,
     "metadata": {},
     "output_type": "execute_result"
    }
   ],
   "source": [
    "test_final = test_view_data.merge(item_data,on = 'item_id',how = 'left')\n",
    "\n",
    "print(\"Shape of train_view_data : \",test_final.shape)\n",
    "\n",
    "test_final.head(3)"
   ]
  },
  {
   "cell_type": "code",
   "execution_count": 20,
   "metadata": {},
   "outputs": [
    {
     "data": {
      "text/plain": [
       "impression_id         0\n",
       "impression_time       0\n",
       "user_id               0\n",
       "app_code              0\n",
       "os_version            0\n",
       "is_4G                 0\n",
       "server_time           0\n",
       "device_type           0\n",
       "session_id            0\n",
       "item_id               0\n",
       "item_price         2417\n",
       "category_1         2417\n",
       "category_2         2417\n",
       "category_3         2417\n",
       "product_type       2417\n",
       "dtype: int64"
      ]
     },
     "execution_count": 20,
     "metadata": {},
     "output_type": "execute_result"
    }
   ],
   "source": [
    "test_final.isnull().sum()"
   ]
  },
  {
   "cell_type": "code",
   "execution_count": 21,
   "metadata": {},
   "outputs": [],
   "source": [
    "from sklearn.impute import SimpleImputer\n",
    "\n",
    "imp_mean = SimpleImputer(missing_values=np.nan, strategy='mean')\n",
    "imp_mean.fit(train_final['item_price'].as_matrix().reshape(-1,1))\n",
    "\n",
    "a=imp_mean.transform(train_final['item_price'].as_matrix().reshape(-1,1))\n",
    "b = imp_mean.transform(test_final['item_price'].as_matrix().reshape(-1,1))"
   ]
  },
  {
   "cell_type": "code",
   "execution_count": 22,
   "metadata": {},
   "outputs": [],
   "source": [
    "train_final['item_price'] = a\n",
    "test_final['item_price'] = b"
   ]
  },
  {
   "cell_type": "code",
   "execution_count": 23,
   "metadata": {},
   "outputs": [],
   "source": [
    "from sklearn.impute import SimpleImputer\n",
    "\n",
    "imp_mean = SimpleImputer(missing_values=np.nan, strategy='most_frequent')\n",
    "imp_mean.fit(train_final['category_1'].as_matrix().reshape(-1,1))\n",
    "\n",
    "a1=imp_mean.transform(train_final['category_1'].as_matrix().reshape(-1,1))\n",
    "b1=imp_mean.transform(test_final['category_1'].as_matrix().reshape(-1,1))"
   ]
  },
  {
   "cell_type": "code",
   "execution_count": 24,
   "metadata": {},
   "outputs": [],
   "source": [
    "train_final['category_1'] = a1\n",
    "test_final['category_1'] = b1"
   ]
  },
  {
   "cell_type": "code",
   "execution_count": 25,
   "metadata": {},
   "outputs": [],
   "source": [
    "from sklearn.impute import SimpleImputer\n",
    "\n",
    "imp_mean = SimpleImputer(missing_values=np.nan, strategy='most_frequent')\n",
    "imp_mean.fit(train_final['category_2'].as_matrix().reshape(-1,1))\n",
    "\n",
    "a2=imp_mean.transform(train_final['category_2'].as_matrix().reshape(-1,1))\n",
    "b2=imp_mean.transform(test_final['category_2'].as_matrix().reshape(-1,1))"
   ]
  },
  {
   "cell_type": "code",
   "execution_count": 26,
   "metadata": {},
   "outputs": [],
   "source": [
    "train_final['category_2'] = a2\n",
    "test_final['category_2'] = b2"
   ]
  },
  {
   "cell_type": "code",
   "execution_count": 27,
   "metadata": {},
   "outputs": [],
   "source": [
    "from sklearn.impute import SimpleImputer\n",
    "\n",
    "imp_mean = SimpleImputer(missing_values=np.nan, strategy='most_frequent')\n",
    "imp_mean.fit(train_final['category_3'].as_matrix().reshape(-1,1))\n",
    "\n",
    "a3=imp_mean.transform(train_final['category_3'].as_matrix().reshape(-1,1))\n",
    "b3=imp_mean.transform(test_final['category_3'].as_matrix().reshape(-1,1))"
   ]
  },
  {
   "cell_type": "code",
   "execution_count": 28,
   "metadata": {},
   "outputs": [],
   "source": [
    "train_final['category_3'] = a3\n",
    "test_final['category_3'] = b3"
   ]
  },
  {
   "cell_type": "code",
   "execution_count": 29,
   "metadata": {},
   "outputs": [],
   "source": [
    "from sklearn.impute import SimpleImputer\n",
    "\n",
    "imp_mean = SimpleImputer(missing_values=np.nan, strategy='most_frequent')\n",
    "imp_mean.fit(train_final['product_type'].as_matrix().reshape(-1,1))\n",
    "\n",
    "a4=imp_mean.transform(train_final['product_type'].as_matrix().reshape(-1,1))\n",
    "b4=imp_mean.transform(test_final['product_type'].as_matrix().reshape(-1,1))"
   ]
  },
  {
   "cell_type": "code",
   "execution_count": 30,
   "metadata": {},
   "outputs": [],
   "source": [
    "train_final['product_type'] = a4\n",
    "test_final['product_type'] = b4\n"
   ]
  },
  {
   "cell_type": "code",
   "execution_count": 31,
   "metadata": {},
   "outputs": [
    {
     "data": {
      "text/plain": [
       "impression_id      0\n",
       "impression_time    0\n",
       "user_id            0\n",
       "app_code           0\n",
       "os_version         0\n",
       "is_4G              0\n",
       "is_click           0\n",
       "server_time        0\n",
       "device_type        0\n",
       "session_id         0\n",
       "item_id            0\n",
       "item_price         0\n",
       "category_1         0\n",
       "category_2         0\n",
       "category_3         0\n",
       "product_type       0\n",
       "dtype: int64"
      ]
     },
     "execution_count": 31,
     "metadata": {},
     "output_type": "execute_result"
    }
   ],
   "source": [
    "train_final.isnull().sum()"
   ]
  },
  {
   "cell_type": "code",
   "execution_count": 32,
   "metadata": {},
   "outputs": [
    {
     "data": {
      "text/plain": [
       "impression_id      0\n",
       "impression_time    0\n",
       "user_id            0\n",
       "app_code           0\n",
       "os_version         0\n",
       "is_4G              0\n",
       "server_time        0\n",
       "device_type        0\n",
       "session_id         0\n",
       "item_id            0\n",
       "item_price         0\n",
       "category_1         0\n",
       "category_2         0\n",
       "category_3         0\n",
       "product_type       0\n",
       "dtype: int64"
      ]
     },
     "execution_count": 32,
     "metadata": {},
     "output_type": "execute_result"
    }
   ],
   "source": [
    "test_final.isnull().sum()"
   ]
  },
  {
   "cell_type": "code",
   "execution_count": 33,
   "metadata": {},
   "outputs": [
    {
     "data": {
      "text/html": [
       "<div>\n",
       "<style scoped>\n",
       "    .dataframe tbody tr th:only-of-type {\n",
       "        vertical-align: middle;\n",
       "    }\n",
       "\n",
       "    .dataframe tbody tr th {\n",
       "        vertical-align: top;\n",
       "    }\n",
       "\n",
       "    .dataframe thead th {\n",
       "        text-align: right;\n",
       "    }\n",
       "</style>\n",
       "<table border=\"1\" class=\"dataframe\">\n",
       "  <thead>\n",
       "    <tr style=\"text-align: right;\">\n",
       "      <th></th>\n",
       "      <th>impression_id</th>\n",
       "      <th>impression_time</th>\n",
       "      <th>user_id</th>\n",
       "      <th>app_code</th>\n",
       "      <th>os_version</th>\n",
       "      <th>is_4G</th>\n",
       "      <th>is_click</th>\n",
       "      <th>server_time</th>\n",
       "      <th>device_type</th>\n",
       "      <th>session_id</th>\n",
       "      <th>item_id</th>\n",
       "      <th>item_price</th>\n",
       "      <th>category_1</th>\n",
       "      <th>category_2</th>\n",
       "      <th>category_3</th>\n",
       "      <th>product_type</th>\n",
       "    </tr>\n",
       "  </thead>\n",
       "  <tbody>\n",
       "    <tr>\n",
       "      <th>0</th>\n",
       "      <td>c4ca4238a0b923820dcc509a6f75849b</td>\n",
       "      <td>2018-11-15 00:00:00</td>\n",
       "      <td>87862</td>\n",
       "      <td>422</td>\n",
       "      <td>old</td>\n",
       "      <td>0</td>\n",
       "      <td>0</td>\n",
       "      <td>2018-10-19 18:11:00</td>\n",
       "      <td>android</td>\n",
       "      <td>190710</td>\n",
       "      <td>43886</td>\n",
       "      <td>2350.0</td>\n",
       "      <td>11.0</td>\n",
       "      <td>35.0</td>\n",
       "      <td>20.0</td>\n",
       "      <td>5622.0</td>\n",
       "    </tr>\n",
       "    <tr>\n",
       "      <th>1</th>\n",
       "      <td>45c48cce2e2d7fbdea1afc51c7c6ad26</td>\n",
       "      <td>2018-11-15 00:01:00</td>\n",
       "      <td>63410</td>\n",
       "      <td>467</td>\n",
       "      <td>latest</td>\n",
       "      <td>1</td>\n",
       "      <td>1</td>\n",
       "      <td>2018-10-21 06:13:00</td>\n",
       "      <td>android</td>\n",
       "      <td>356854</td>\n",
       "      <td>43209</td>\n",
       "      <td>3421.0</td>\n",
       "      <td>4.0</td>\n",
       "      <td>74.0</td>\n",
       "      <td>292.0</td>\n",
       "      <td>577.0</td>\n",
       "    </tr>\n",
       "    <tr>\n",
       "      <th>2</th>\n",
       "      <td>45c48cce2e2d7fbdea1afc51c7c6ad26</td>\n",
       "      <td>2018-11-15 00:01:00</td>\n",
       "      <td>63410</td>\n",
       "      <td>467</td>\n",
       "      <td>latest</td>\n",
       "      <td>1</td>\n",
       "      <td>1</td>\n",
       "      <td>2018-10-21 06:13:00</td>\n",
       "      <td>android</td>\n",
       "      <td>356854</td>\n",
       "      <td>66370</td>\n",
       "      <td>14166.0</td>\n",
       "      <td>4.0</td>\n",
       "      <td>74.0</td>\n",
       "      <td>292.0</td>\n",
       "      <td>3399.0</td>\n",
       "    </tr>\n",
       "  </tbody>\n",
       "</table>\n",
       "</div>"
      ],
      "text/plain": [
       "                      impression_id      impression_time  user_id  app_code  \\\n",
       "0  c4ca4238a0b923820dcc509a6f75849b  2018-11-15 00:00:00    87862       422   \n",
       "1  45c48cce2e2d7fbdea1afc51c7c6ad26  2018-11-15 00:01:00    63410       467   \n",
       "2  45c48cce2e2d7fbdea1afc51c7c6ad26  2018-11-15 00:01:00    63410       467   \n",
       "\n",
       "  os_version  is_4G  is_click          server_time device_type  session_id  \\\n",
       "0        old      0         0  2018-10-19 18:11:00     android      190710   \n",
       "1     latest      1         1  2018-10-21 06:13:00     android      356854   \n",
       "2     latest      1         1  2018-10-21 06:13:00     android      356854   \n",
       "\n",
       "   item_id  item_price  category_1  category_2  category_3  product_type  \n",
       "0    43886      2350.0        11.0        35.0        20.0        5622.0  \n",
       "1    43209      3421.0         4.0        74.0       292.0         577.0  \n",
       "2    66370     14166.0         4.0        74.0       292.0        3399.0  "
      ]
     },
     "execution_count": 33,
     "metadata": {},
     "output_type": "execute_result"
    }
   ],
   "source": [
    "train_final.head(3)"
   ]
  },
  {
   "cell_type": "code",
   "execution_count": 34,
   "metadata": {},
   "outputs": [
    {
     "data": {
      "text/html": [
       "<div>\n",
       "<style scoped>\n",
       "    .dataframe tbody tr th:only-of-type {\n",
       "        vertical-align: middle;\n",
       "    }\n",
       "\n",
       "    .dataframe tbody tr th {\n",
       "        vertical-align: top;\n",
       "    }\n",
       "\n",
       "    .dataframe thead th {\n",
       "        text-align: right;\n",
       "    }\n",
       "</style>\n",
       "<table border=\"1\" class=\"dataframe\">\n",
       "  <thead>\n",
       "    <tr style=\"text-align: right;\">\n",
       "      <th></th>\n",
       "      <th>impression_id</th>\n",
       "      <th>impression_time</th>\n",
       "      <th>user_id</th>\n",
       "      <th>app_code</th>\n",
       "      <th>os_version</th>\n",
       "      <th>is_4G</th>\n",
       "      <th>server_time</th>\n",
       "      <th>device_type</th>\n",
       "      <th>session_id</th>\n",
       "      <th>item_id</th>\n",
       "      <th>item_price</th>\n",
       "      <th>category_1</th>\n",
       "      <th>category_2</th>\n",
       "      <th>category_3</th>\n",
       "      <th>product_type</th>\n",
       "    </tr>\n",
       "  </thead>\n",
       "  <tbody>\n",
       "    <tr>\n",
       "      <th>0</th>\n",
       "      <td>a9e7126a585a69a32bc7414e9d0c0ada</td>\n",
       "      <td>2018-12-13 07:44:00</td>\n",
       "      <td>44754</td>\n",
       "      <td>127</td>\n",
       "      <td>latest</td>\n",
       "      <td>1</td>\n",
       "      <td>2018-12-11 19:01:00</td>\n",
       "      <td>android</td>\n",
       "      <td>923045</td>\n",
       "      <td>128995</td>\n",
       "      <td>23424.0</td>\n",
       "      <td>1.0</td>\n",
       "      <td>42.0</td>\n",
       "      <td>220.0</td>\n",
       "      <td>1617.0</td>\n",
       "    </tr>\n",
       "    <tr>\n",
       "      <th>1</th>\n",
       "      <td>caac14a5bf2ba283db7708bb34855760</td>\n",
       "      <td>2018-12-13 07:45:00</td>\n",
       "      <td>29656</td>\n",
       "      <td>44</td>\n",
       "      <td>latest</td>\n",
       "      <td>0</td>\n",
       "      <td>2018-10-16 10:47:00</td>\n",
       "      <td>android</td>\n",
       "      <td>368797</td>\n",
       "      <td>55912</td>\n",
       "      <td>1529.0</td>\n",
       "      <td>9.0</td>\n",
       "      <td>44.0</td>\n",
       "      <td>114.0</td>\n",
       "      <td>9857.0</td>\n",
       "    </tr>\n",
       "    <tr>\n",
       "      <th>2</th>\n",
       "      <td>caac14a5bf2ba283db7708bb34855760</td>\n",
       "      <td>2018-12-13 07:45:00</td>\n",
       "      <td>29656</td>\n",
       "      <td>44</td>\n",
       "      <td>latest</td>\n",
       "      <td>0</td>\n",
       "      <td>2018-10-16 10:48:00</td>\n",
       "      <td>android</td>\n",
       "      <td>368797</td>\n",
       "      <td>80771</td>\n",
       "      <td>11697.0</td>\n",
       "      <td>9.0</td>\n",
       "      <td>3.0</td>\n",
       "      <td>48.0</td>\n",
       "      <td>6347.0</td>\n",
       "    </tr>\n",
       "  </tbody>\n",
       "</table>\n",
       "</div>"
      ],
      "text/plain": [
       "                      impression_id      impression_time  user_id  app_code  \\\n",
       "0  a9e7126a585a69a32bc7414e9d0c0ada  2018-12-13 07:44:00    44754       127   \n",
       "1  caac14a5bf2ba283db7708bb34855760  2018-12-13 07:45:00    29656        44   \n",
       "2  caac14a5bf2ba283db7708bb34855760  2018-12-13 07:45:00    29656        44   \n",
       "\n",
       "  os_version  is_4G          server_time device_type  session_id  item_id  \\\n",
       "0     latest      1  2018-12-11 19:01:00     android      923045   128995   \n",
       "1     latest      0  2018-10-16 10:47:00     android      368797    55912   \n",
       "2     latest      0  2018-10-16 10:48:00     android      368797    80771   \n",
       "\n",
       "   item_price  category_1  category_2  category_3  product_type  \n",
       "0     23424.0         1.0        42.0       220.0        1617.0  \n",
       "1      1529.0         9.0        44.0       114.0        9857.0  \n",
       "2     11697.0         9.0         3.0        48.0        6347.0  "
      ]
     },
     "execution_count": 34,
     "metadata": {},
     "output_type": "execute_result"
    }
   ],
   "source": [
    "test_final.head(3)"
   ]
  },
  {
   "cell_type": "code",
   "execution_count": 35,
   "metadata": {},
   "outputs": [
    {
     "data": {
      "text/plain": [
       "((3871697, 15), (11052882, 16))"
      ]
     },
     "execution_count": 35,
     "metadata": {},
     "output_type": "execute_result"
    }
   ],
   "source": [
    "test_final.shape,train_final.shape"
   ]
  },
  {
   "cell_type": "markdown",
   "metadata": {},
   "source": [
    "# Copy Train & Test"
   ]
  },
  {
   "cell_type": "code",
   "execution_count": 36,
   "metadata": {},
   "outputs": [],
   "source": [
    "train_orignal = train_final.copy()\n",
    "test_orignal = test_final.copy()"
   ]
  },
  {
   "cell_type": "markdown",
   "metadata": {},
   "source": [
    "# Convert Date Time"
   ]
  },
  {
   "cell_type": "code",
   "execution_count": 37,
   "metadata": {},
   "outputs": [],
   "source": [
    "# dateTime is object so convert it in datetime\n",
    "from datetime import datetime \n",
    "train_final['impression_time'] = pd.to_datetime(train_final.impression_time,format='%Y-%m-%d %H:%M:%S') \n",
    "test_final['impression_time'] = pd.to_datetime(test_final.impression_time,format='%Y-%m-%d %H:%M:%S')\n",
    "train_orignal['impression_time'] = pd.to_datetime(train_orignal.impression_time,format='%Y-%m-%d %H:%M:%S') \n",
    "test_orignal['impression_time'] = pd.to_datetime(test_orignal.impression_time,format='%Y-%m-%d %H:%M:%S')\n",
    "\n",
    "\n",
    "train_final['server_time'] = pd.to_datetime(train_final.impression_time,format='%Y-%m-%d %H:%M:%S') \n",
    "test_final['server_time'] = pd.to_datetime(test_final.impression_time,format='%Y-%m-%d %H:%M:%S')\n",
    "train_orignal['server_time'] = pd.to_datetime(train_orignal.impression_time,format='%Y-%m-%d %H:%M:%S') \n",
    "test_orignal['server_time'] = pd.to_datetime(test_orignal.impression_time,format='%Y-%m-%d %H:%M:%S')"
   ]
  },
  {
   "cell_type": "code",
   "execution_count": 38,
   "metadata": {},
   "outputs": [],
   "source": [
    "# We made some hypothesis for the effect of hour, day, month and year on the passenger count. So, let’s extract the year, month, day and hour from the Datetime to validate our hypothesis.\n",
    "\n",
    "for i in (train_final, test_final, train_orignal, test_orignal):\n",
    "    i['imp_year']=i.impression_time.dt.year \n",
    "    i['imp_month']=i.impression_time.dt.month \n",
    "    i['imp_day']=i.impression_time.dt.day\n",
    "    i['imp_Hour']=i.impression_time.dt.hour\n",
    "    i['imp_min'] = i.impression_time.dt.minute\n",
    "    \n",
    "    \n",
    "    i['st_year']=i.server_time.dt.year \n",
    "    i['st_month']=i.server_time.dt.month \n",
    "    i['st_day']=i.server_time.dt.day\n",
    "    i['st_Hour']=i.server_time.dt.hour\n",
    "    i['st_min'] = i.server_time.dt.minute\n",
    "    \n",
    "    "
   ]
  },
  {
   "cell_type": "code",
   "execution_count": 39,
   "metadata": {},
   "outputs": [],
   "source": [
    "train_final['imp day of week']=train_final['impression_time'].dt.dayofweek \n",
    "temp = train_final['impression_time']\n",
    "\n",
    "\n",
    "test_final['imp day of week']=test_final['impression_time'].dt.dayofweek \n",
    "temp = test_final['impression_time']\n",
    "\n",
    "train_final['st day of week']=train_final['server_time'].dt.dayofweek \n",
    "temp = train_final['server_time']\n",
    "\n",
    "\n",
    "test_final['st day of week']=test_final['server_time'].dt.dayofweek \n",
    "temp = test_final['server_time']\n"
   ]
  },
  {
   "cell_type": "code",
   "execution_count": 40,
   "metadata": {},
   "outputs": [],
   "source": [
    "def applyer(row):\n",
    "    if row.dayofweek == 5 or row.dayofweek == 6:\n",
    "        return 1\n",
    "    else:\n",
    "        return 0 \n",
    "temp2 = train_final['impression_time'].apply(applyer) \n",
    "train_final['imp_weekend']=temp2\n",
    "\n",
    "temp2 = test_final['impression_time'].apply(applyer) \n",
    "test_final['imp_weekend']=temp2\n",
    "\n",
    "\n",
    "\n",
    "temp2 = train_final['server_time'].apply(applyer) \n",
    "train_final['st_weekend']=temp2\n",
    "\n",
    "temp2 = test_final['server_time'].apply(applyer) \n",
    "test_final['st_weekend']=temp2\n",
    "\n",
    "\n"
   ]
  },
  {
   "cell_type": "code",
   "execution_count": 41,
   "metadata": {},
   "outputs": [
    {
     "data": {
      "text/html": [
       "<div>\n",
       "<style scoped>\n",
       "    .dataframe tbody tr th:only-of-type {\n",
       "        vertical-align: middle;\n",
       "    }\n",
       "\n",
       "    .dataframe tbody tr th {\n",
       "        vertical-align: top;\n",
       "    }\n",
       "\n",
       "    .dataframe thead th {\n",
       "        text-align: right;\n",
       "    }\n",
       "</style>\n",
       "<table border=\"1\" class=\"dataframe\">\n",
       "  <thead>\n",
       "    <tr style=\"text-align: right;\">\n",
       "      <th></th>\n",
       "      <th>impression_id</th>\n",
       "      <th>impression_time</th>\n",
       "      <th>user_id</th>\n",
       "      <th>app_code</th>\n",
       "      <th>os_version</th>\n",
       "      <th>is_4G</th>\n",
       "      <th>is_click</th>\n",
       "      <th>server_time</th>\n",
       "      <th>device_type</th>\n",
       "      <th>session_id</th>\n",
       "      <th>...</th>\n",
       "      <th>imp_min</th>\n",
       "      <th>st_year</th>\n",
       "      <th>st_month</th>\n",
       "      <th>st_day</th>\n",
       "      <th>st_Hour</th>\n",
       "      <th>st_min</th>\n",
       "      <th>imp day of week</th>\n",
       "      <th>st day of week</th>\n",
       "      <th>imp_weekend</th>\n",
       "      <th>st_weekend</th>\n",
       "    </tr>\n",
       "  </thead>\n",
       "  <tbody>\n",
       "    <tr>\n",
       "      <th>0</th>\n",
       "      <td>c4ca4238a0b923820dcc509a6f75849b</td>\n",
       "      <td>2018-11-15 00:00:00</td>\n",
       "      <td>87862</td>\n",
       "      <td>422</td>\n",
       "      <td>old</td>\n",
       "      <td>0</td>\n",
       "      <td>0</td>\n",
       "      <td>2018-11-15 00:00:00</td>\n",
       "      <td>android</td>\n",
       "      <td>190710</td>\n",
       "      <td>...</td>\n",
       "      <td>0</td>\n",
       "      <td>2018</td>\n",
       "      <td>11</td>\n",
       "      <td>15</td>\n",
       "      <td>0</td>\n",
       "      <td>0</td>\n",
       "      <td>3</td>\n",
       "      <td>3</td>\n",
       "      <td>0</td>\n",
       "      <td>0</td>\n",
       "    </tr>\n",
       "    <tr>\n",
       "      <th>1</th>\n",
       "      <td>45c48cce2e2d7fbdea1afc51c7c6ad26</td>\n",
       "      <td>2018-11-15 00:01:00</td>\n",
       "      <td>63410</td>\n",
       "      <td>467</td>\n",
       "      <td>latest</td>\n",
       "      <td>1</td>\n",
       "      <td>1</td>\n",
       "      <td>2018-11-15 00:01:00</td>\n",
       "      <td>android</td>\n",
       "      <td>356854</td>\n",
       "      <td>...</td>\n",
       "      <td>1</td>\n",
       "      <td>2018</td>\n",
       "      <td>11</td>\n",
       "      <td>15</td>\n",
       "      <td>0</td>\n",
       "      <td>1</td>\n",
       "      <td>3</td>\n",
       "      <td>3</td>\n",
       "      <td>0</td>\n",
       "      <td>0</td>\n",
       "    </tr>\n",
       "    <tr>\n",
       "      <th>2</th>\n",
       "      <td>45c48cce2e2d7fbdea1afc51c7c6ad26</td>\n",
       "      <td>2018-11-15 00:01:00</td>\n",
       "      <td>63410</td>\n",
       "      <td>467</td>\n",
       "      <td>latest</td>\n",
       "      <td>1</td>\n",
       "      <td>1</td>\n",
       "      <td>2018-11-15 00:01:00</td>\n",
       "      <td>android</td>\n",
       "      <td>356854</td>\n",
       "      <td>...</td>\n",
       "      <td>1</td>\n",
       "      <td>2018</td>\n",
       "      <td>11</td>\n",
       "      <td>15</td>\n",
       "      <td>0</td>\n",
       "      <td>1</td>\n",
       "      <td>3</td>\n",
       "      <td>3</td>\n",
       "      <td>0</td>\n",
       "      <td>0</td>\n",
       "    </tr>\n",
       "  </tbody>\n",
       "</table>\n",
       "<p>3 rows × 30 columns</p>\n",
       "</div>"
      ],
      "text/plain": [
       "                      impression_id     impression_time  user_id  app_code  \\\n",
       "0  c4ca4238a0b923820dcc509a6f75849b 2018-11-15 00:00:00    87862       422   \n",
       "1  45c48cce2e2d7fbdea1afc51c7c6ad26 2018-11-15 00:01:00    63410       467   \n",
       "2  45c48cce2e2d7fbdea1afc51c7c6ad26 2018-11-15 00:01:00    63410       467   \n",
       "\n",
       "  os_version  is_4G  is_click         server_time device_type  session_id  \\\n",
       "0        old      0         0 2018-11-15 00:00:00     android      190710   \n",
       "1     latest      1         1 2018-11-15 00:01:00     android      356854   \n",
       "2     latest      1         1 2018-11-15 00:01:00     android      356854   \n",
       "\n",
       "      ...      imp_min  st_year  st_month  st_day  st_Hour  st_min  \\\n",
       "0     ...            0     2018        11      15        0       0   \n",
       "1     ...            1     2018        11      15        0       1   \n",
       "2     ...            1     2018        11      15        0       1   \n",
       "\n",
       "   imp day of week  st day of week  imp_weekend  st_weekend  \n",
       "0                3               3            0           0  \n",
       "1                3               3            0           0  \n",
       "2                3               3            0           0  \n",
       "\n",
       "[3 rows x 30 columns]"
      ]
     },
     "execution_count": 41,
     "metadata": {},
     "output_type": "execute_result"
    }
   ],
   "source": [
    "train_final.head(3)"
   ]
  },
  {
   "cell_type": "code",
   "execution_count": 42,
   "metadata": {},
   "outputs": [
    {
     "data": {
      "text/html": [
       "<div>\n",
       "<style scoped>\n",
       "    .dataframe tbody tr th:only-of-type {\n",
       "        vertical-align: middle;\n",
       "    }\n",
       "\n",
       "    .dataframe tbody tr th {\n",
       "        vertical-align: top;\n",
       "    }\n",
       "\n",
       "    .dataframe thead th {\n",
       "        text-align: right;\n",
       "    }\n",
       "</style>\n",
       "<table border=\"1\" class=\"dataframe\">\n",
       "  <thead>\n",
       "    <tr style=\"text-align: right;\">\n",
       "      <th></th>\n",
       "      <th>impression_id</th>\n",
       "      <th>impression_time</th>\n",
       "      <th>user_id</th>\n",
       "      <th>app_code</th>\n",
       "      <th>os_version</th>\n",
       "      <th>is_4G</th>\n",
       "      <th>server_time</th>\n",
       "      <th>device_type</th>\n",
       "      <th>session_id</th>\n",
       "      <th>item_id</th>\n",
       "      <th>...</th>\n",
       "      <th>imp_min</th>\n",
       "      <th>st_year</th>\n",
       "      <th>st_month</th>\n",
       "      <th>st_day</th>\n",
       "      <th>st_Hour</th>\n",
       "      <th>st_min</th>\n",
       "      <th>imp day of week</th>\n",
       "      <th>st day of week</th>\n",
       "      <th>imp_weekend</th>\n",
       "      <th>st_weekend</th>\n",
       "    </tr>\n",
       "  </thead>\n",
       "  <tbody>\n",
       "    <tr>\n",
       "      <th>0</th>\n",
       "      <td>a9e7126a585a69a32bc7414e9d0c0ada</td>\n",
       "      <td>2018-12-13 07:44:00</td>\n",
       "      <td>44754</td>\n",
       "      <td>127</td>\n",
       "      <td>latest</td>\n",
       "      <td>1</td>\n",
       "      <td>2018-12-13 07:44:00</td>\n",
       "      <td>android</td>\n",
       "      <td>923045</td>\n",
       "      <td>128995</td>\n",
       "      <td>...</td>\n",
       "      <td>44</td>\n",
       "      <td>2018</td>\n",
       "      <td>12</td>\n",
       "      <td>13</td>\n",
       "      <td>7</td>\n",
       "      <td>44</td>\n",
       "      <td>3</td>\n",
       "      <td>3</td>\n",
       "      <td>0</td>\n",
       "      <td>0</td>\n",
       "    </tr>\n",
       "    <tr>\n",
       "      <th>1</th>\n",
       "      <td>caac14a5bf2ba283db7708bb34855760</td>\n",
       "      <td>2018-12-13 07:45:00</td>\n",
       "      <td>29656</td>\n",
       "      <td>44</td>\n",
       "      <td>latest</td>\n",
       "      <td>0</td>\n",
       "      <td>2018-12-13 07:45:00</td>\n",
       "      <td>android</td>\n",
       "      <td>368797</td>\n",
       "      <td>55912</td>\n",
       "      <td>...</td>\n",
       "      <td>45</td>\n",
       "      <td>2018</td>\n",
       "      <td>12</td>\n",
       "      <td>13</td>\n",
       "      <td>7</td>\n",
       "      <td>45</td>\n",
       "      <td>3</td>\n",
       "      <td>3</td>\n",
       "      <td>0</td>\n",
       "      <td>0</td>\n",
       "    </tr>\n",
       "    <tr>\n",
       "      <th>2</th>\n",
       "      <td>caac14a5bf2ba283db7708bb34855760</td>\n",
       "      <td>2018-12-13 07:45:00</td>\n",
       "      <td>29656</td>\n",
       "      <td>44</td>\n",
       "      <td>latest</td>\n",
       "      <td>0</td>\n",
       "      <td>2018-12-13 07:45:00</td>\n",
       "      <td>android</td>\n",
       "      <td>368797</td>\n",
       "      <td>80771</td>\n",
       "      <td>...</td>\n",
       "      <td>45</td>\n",
       "      <td>2018</td>\n",
       "      <td>12</td>\n",
       "      <td>13</td>\n",
       "      <td>7</td>\n",
       "      <td>45</td>\n",
       "      <td>3</td>\n",
       "      <td>3</td>\n",
       "      <td>0</td>\n",
       "      <td>0</td>\n",
       "    </tr>\n",
       "  </tbody>\n",
       "</table>\n",
       "<p>3 rows × 29 columns</p>\n",
       "</div>"
      ],
      "text/plain": [
       "                      impression_id     impression_time  user_id  app_code  \\\n",
       "0  a9e7126a585a69a32bc7414e9d0c0ada 2018-12-13 07:44:00    44754       127   \n",
       "1  caac14a5bf2ba283db7708bb34855760 2018-12-13 07:45:00    29656        44   \n",
       "2  caac14a5bf2ba283db7708bb34855760 2018-12-13 07:45:00    29656        44   \n",
       "\n",
       "  os_version  is_4G         server_time device_type  session_id  item_id  \\\n",
       "0     latest      1 2018-12-13 07:44:00     android      923045   128995   \n",
       "1     latest      0 2018-12-13 07:45:00     android      368797    55912   \n",
       "2     latest      0 2018-12-13 07:45:00     android      368797    80771   \n",
       "\n",
       "      ...      imp_min  st_year  st_month  st_day  st_Hour  st_min  \\\n",
       "0     ...           44     2018        12      13        7      44   \n",
       "1     ...           45     2018        12      13        7      45   \n",
       "2     ...           45     2018        12      13        7      45   \n",
       "\n",
       "   imp day of week  st day of week  imp_weekend  st_weekend  \n",
       "0                3               3            0           0  \n",
       "1                3               3            0           0  \n",
       "2                3               3            0           0  \n",
       "\n",
       "[3 rows x 29 columns]"
      ]
     },
     "execution_count": 42,
     "metadata": {},
     "output_type": "execute_result"
    }
   ],
   "source": [
    "test_final.head(3)"
   ]
  },
  {
   "cell_type": "code",
   "execution_count": 43,
   "metadata": {},
   "outputs": [
    {
     "data": {
      "text/plain": [
       "((3871697, 29), (11052882, 30))"
      ]
     },
     "execution_count": 43,
     "metadata": {},
     "output_type": "execute_result"
    }
   ],
   "source": [
    "test_final.shape,train_final.shape"
   ]
  },
  {
   "cell_type": "code",
   "execution_count": 44,
   "metadata": {},
   "outputs": [
    {
     "data": {
      "text/plain": [
       "(8704057, 30)"
      ]
     },
     "execution_count": 44,
     "metadata": {},
     "output_type": "execute_result"
    }
   ],
   "source": [
    "#Deduplication of entries\n",
    "train_final = train_final.drop_duplicates(subset=train_final.columns, keep='first', inplace=False)\n",
    "train_final.shape"
   ]
  },
  {
   "cell_type": "code",
   "execution_count": 45,
   "metadata": {},
   "outputs": [
    {
     "data": {
      "text/plain": [
       "(237609, 30)"
      ]
     },
     "execution_count": 45,
     "metadata": {},
     "output_type": "execute_result"
    }
   ],
   "source": [
    "#Deduplication of entries\n",
    "train_final = train_final.drop_duplicates(subset={\"impression_id\",\"impression_time\",\"user_id\",\"app_code\",\"os_version\",\"is_4G\"}, keep='first', inplace=False)\n",
    "train_final.shape"
   ]
  },
  {
   "cell_type": "code",
   "execution_count": 46,
   "metadata": {},
   "outputs": [
    {
     "data": {
      "text/plain": [
       "(3055644, 29)"
      ]
     },
     "execution_count": 46,
     "metadata": {},
     "output_type": "execute_result"
    }
   ],
   "source": [
    "#Deduplication of entries\n",
    "test_final = test_final.drop_duplicates(subset=test_final.columns, keep='first', inplace=False)\n",
    "test_final.shape"
   ]
  },
  {
   "cell_type": "code",
   "execution_count": 47,
   "metadata": {},
   "outputs": [
    {
     "data": {
      "text/plain": [
       "(90675, 29)"
      ]
     },
     "execution_count": 47,
     "metadata": {},
     "output_type": "execute_result"
    }
   ],
   "source": [
    "#Deduplication of entries\n",
    "test_final = test_final.drop_duplicates(subset={\"impression_id\",\"impression_time\",\"user_id\",\"app_code\",\"os_version\",\"is_4G\"}, keep='first', inplace=False)\n",
    "test_final.shape"
   ]
  },
  {
   "cell_type": "markdown",
   "metadata": {},
   "source": [
    "# EDA"
   ]
  },
  {
   "cell_type": "code",
   "execution_count": 48,
   "metadata": {},
   "outputs": [
    {
     "data": {
      "image/png": "[encoded data removed]",
      "text/plain": [
       "<Figure size 432x288 with 1 Axes>"
      ]
     },
     "metadata": {
      "needs_background": "light"
     },
     "output_type": "display_data"
    }
   ],
   "source": [
    "import seaborn as sns\n",
    "import matplotlib.pyplot as plt\n",
    "sns.countplot(x='is_click',data=train_data, palette='hls')\n",
    "plt.show();"
   ]
  },
  {
   "cell_type": "code",
   "execution_count": null,
   "metadata": {},
   "outputs": [],
   "source": [
    "train_data['is_click'].value_counts()/len(train_data)"
   ]
  },
  {
   "cell_type": "markdown",
   "metadata": {},
   "source": [
    "The Overall CTR is approx 4 % and approx 96 % not clicked"
   ]
  },
  {
   "cell_type": "code",
   "execution_count": null,
   "metadata": {},
   "outputs": [],
   "source": [
    "train_data.impression_time.describe()"
   ]
  },
  {
   "cell_type": "code",
   "execution_count": null,
   "metadata": {},
   "outputs": [],
   "source": [
    "train_data.groupby('Hour').agg({'is_click':'sum'}).plot(figsize=(12,6))\n",
    "plt.ylabel('Number of clicks')\n",
    "plt.title('Number of clicks by hour');"
   ]
  },
  {
   "cell_type": "markdown",
   "metadata": {},
   "source": [
    "The highest number of clicks is at hour 0 and 22 (mid-night and 10pm), and the lowest number of clicks is at hour 3-4 (3pm & 4pm)"
   ]
  },
  {
   "cell_type": "code",
   "execution_count": null,
   "metadata": {},
   "outputs": [],
   "source": [
    "train_data.groupby(['day', 'is_click']).size().unstack().plot(kind='bar', title=\"day\", figsize=(12,6))\n",
    "plt.ylabel('count')\n",
    "plt.title('Hourly impressions vs. clicks');"
   ]
  },
  {
   "cell_type": "markdown",
   "metadata": {},
   "source": [
    "On day 13 there is no clicks and max click is on day 3 & day 27"
   ]
  },
  {
   "cell_type": "markdown",
   "metadata": {},
   "source": [
    "### CTR is the ratio of ad clicks to impressions. It measures the rate of clicks on each ad."
   ]
  },
  {
   "cell_type": "markdown",
   "metadata": {},
   "source": [
    "## Hourly CTR"
   ]
  },
  {
   "cell_type": "code",
   "execution_count": null,
   "metadata": {},
   "outputs": [],
   "source": [
    "import seaborn as sns\n",
    "df_click = train_data[train_data['is_click'] == 1]\n",
    "df_hour = train_data[['Hour','is_click']].groupby(['Hour']).count().reset_index()\n",
    "df_hour = df_hour.rename(columns={'is_click': 'impressions'})\n",
    "df_hour['is_click'] = df_click[['Hour','is_click']].groupby(['Hour']).count().reset_index()['is_click']\n",
    "df_hour['CTR'] = df_hour['is_click']/df_hour['impressions']*100\n",
    "plt.figure(figsize=(12,6))\n",
    "sns.barplot(y='CTR', x='Hour', data=df_hour)\n",
    "plt.title('Hourly CTR');"
   ]
  },
  {
   "cell_type": "markdown",
   "metadata": {},
   "source": [
    "Highest number of CTR is on 3,4 and as we know impression & clicks on 3,4 is very less"
   ]
  },
  {
   "cell_type": "markdown",
   "metadata": {},
   "source": [
    "# Day Of Week"
   ]
  },
  {
   "cell_type": "code",
   "execution_count": null,
   "metadata": {},
   "outputs": [],
   "source": [
    "train_data['day_of_week'] = train_data['impression_time'].apply(lambda val: val.weekday_name)\n",
    "cats = ['Monday', 'Tuesday', 'Wednesday', 'Thursday', 'Friday', 'Saturday', 'Sunday']\n",
    "train_data.groupby('day_of_week').agg({'is_click':'sum'}).reindex(cats).plot(figsize=(12,6))\n",
    "ticks = list(range(0, 7, 1)) # points on the x axis where you want the label to appear\n",
    "labels = \"Mon Tues Weds Thurs Fri Sat Sun\".split()\n",
    "plt.xticks(ticks, labels)\n",
    "plt.title('click trends by day of week');"
   ]
  },
  {
   "cell_type": "code",
   "execution_count": null,
   "metadata": {},
   "outputs": [],
   "source": [
    "train_data.groupby(['day_of_week','is_click']).size().unstack().reindex(cats).plot(kind='bar', title=\"Day of the Week\", figsize=(12,6))\n",
    "ticks = list(range(0, 7, 1)) # points on the x axis where you want the label to appear\n",
    "labels = \"Mon Tues Weds Thurs Fri Sat Sun\".split()\n",
    "plt.xticks(ticks, labels)\n",
    "plt.title('Impressions vs. clicks by day of week');"
   ]
  },
  {
   "cell_type": "markdown",
   "metadata": {},
   "source": [
    "Wed , Fri ,Sat & Sun have less number of clicks and impression and Tues have more number of clicks"
   ]
  },
  {
   "cell_type": "markdown",
   "metadata": {},
   "source": [
    "## Day of week CTR"
   ]
  },
  {
   "cell_type": "code",
   "execution_count": null,
   "metadata": {},
   "outputs": [],
   "source": [
    "df_click = train_data[train_data['is_click']==1]\n",
    "df_dayofweek = train_data[['day_of_week','is_click']].groupby(['day_of_week']).count().reset_index()\n",
    "df_dayofweek = df_dayofweek.rename(columns={'is_click': 'impressions'})\n",
    "df_dayofweek['is_click'] = df_click[['day_of_week','is_click']].groupby(['day_of_week']).count().reset_index()['is_click']\n",
    "df_dayofweek['CTR'] = df_dayofweek['is_click']/df_dayofweek['impressions']*100\n",
    "plt.figure(figsize=(12,6))\n",
    "sns.barplot(y='CTR', x='day_of_week', data=df_dayofweek, order=['Monday', 'Tuesday', 'Wednesday', 'Thursday', 'Friday', 'Saturday', 'Sunday'])\n",
    "plt.title('Day of week CTR');"
   ]
  },
  {
   "cell_type": "markdown",
   "metadata": {},
   "source": [
    "Tue have lowest and Sat Sun Mon have highest CTR"
   ]
  },
  {
   "cell_type": "markdown",
   "metadata": {},
   "source": [
    "# min"
   ]
  },
  {
   "cell_type": "code",
   "execution_count": null,
   "metadata": {},
   "outputs": [],
   "source": [
    "\n",
    "\n",
    "train_data.groupby('min').agg({'is_click':'sum'}).plot(figsize=(12,6))\n",
    "ticks = list(range(0, 7, 1)) # points on the x axis where you want the label to appear\n",
    "\n",
    "plt.title('click trends by min');"
   ]
  },
  {
   "cell_type": "code",
   "execution_count": null,
   "metadata": {},
   "outputs": [],
   "source": [
    "train_data.groupby(['min','is_click']).size().unstack().plot(kind='bar', title=\"min\", figsize=(12,6))\n",
    "ticks = list(range(0, 7, 1)) # points on the x axis where you want the label to appear\n",
    "\n",
    "\n",
    "plt.title('Impressions vs. clicks by min');"
   ]
  },
  {
   "cell_type": "markdown",
   "metadata": {},
   "source": [
    "# MIN CTR"
   ]
  },
  {
   "cell_type": "code",
   "execution_count": null,
   "metadata": {},
   "outputs": [],
   "source": [
    "df_click = train_data[train_data['is_click']==1]\n",
    "df_min = train_data[['min','is_click']].groupby(['min']).count().reset_index()\n",
    "df_min = df_min.rename(columns={'is_click': 'impressions'})\n",
    "df_min['is_click'] = df_click[['min','is_click']].groupby(['min']).count().reset_index()['is_click']\n",
    "df_min['CTR'] = df_min['is_click']/df_min['impressions']*100\n",
    "plt.figure(figsize=(12,6))\n",
    "sns.barplot(y='CTR', x='min', data=df_min)\n",
    "plt.title('min CTR')"
   ]
  },
  {
   "cell_type": "markdown",
   "metadata": {},
   "source": [
    "# EDA on app_code"
   ]
  },
  {
   "cell_type": "code",
   "execution_count": null,
   "metadata": {},
   "outputs": [],
   "source": [
    "\n",
    "\n",
    "train_data.groupby('app_code').agg({'is_click':'sum'}).plot(figsize=(12,6))\n",
    "ticks = list(range(0, 7, 1)) # points on the x axis where you want the label to appear\n",
    "\n",
    "plt.title('click trends by app_code');"
   ]
  },
  {
   "cell_type": "code",
   "execution_count": null,
   "metadata": {
    "scrolled": true
   },
   "outputs": [],
   "source": [
    "print(train_data.app_code.value_counts()/len(train_data))"
   ]
  },
  {
   "cell_type": "markdown",
   "metadata": {},
   "source": [
    "app_code 207 have 14.22 % Clicks"
   ]
  },
  {
   "cell_type": "markdown",
   "metadata": {},
   "source": [
    "## CTR of aap_code"
   ]
  },
  {
   "cell_type": "code",
   "execution_count": null,
   "metadata": {},
   "outputs": [],
   "source": [
    "app_code_values = train_data.app_code.unique()\n",
    "app_code_values.sort()\n",
    "ctr_avg_list=[]\n",
    "for i in app_code_values:\n",
    "    ctr_avg=train_data.loc[np.where((train_data.app_code == i))].is_click.mean()\n",
    "    ctr_avg_list.append(ctr_avg)\n",
    "    print(\"for C1 value: {},  click through rate: {}\".format(i,ctr_avg))"
   ]
  },
  {
   "cell_type": "markdown",
   "metadata": {},
   "source": [
    "204,380,451,517 have 25 % , 452 have 27.27 % CTR ,CTR & 315,408,479 have 100 % CTR"
   ]
  },
  {
   "cell_type": "code",
   "execution_count": 35,
   "metadata": {},
   "outputs": [
    {
     "data": {
      "image/png": "[encoded data removed]",
      "text/plain": [
       "<Figure size 864x432 with 1 Axes>"
      ]
     },
     "metadata": {
      "needs_background": "light"
     },
     "output_type": "display_data"
    }
   ],
   "source": [
    "train_data.groupby(['app_code', 'is_click']).size().unstack().plot(kind='bar', figsize=(12,6), title='app_code histogram');"
   ]
  },
  {
   "cell_type": "markdown",
   "metadata": {},
   "source": [
    "# is_4G"
   ]
  },
  {
   "cell_type": "code",
   "execution_count": 36,
   "metadata": {},
   "outputs": [
    {
     "name": "stdout",
     "output_type": "stream",
     "text": [
      "0    0.638688\n",
      "1    0.361312\n",
      "Name: is_4G, dtype: float64\n"
     ]
    }
   ],
   "source": [
    "print(train_data.is_4G.value_counts()/len(train_data))"
   ]
  },
  {
   "cell_type": "markdown",
   "metadata": {},
   "source": [
    "Approx 64 % have not 4g and 36 % have 4g connection"
   ]
  },
  {
   "cell_type": "code",
   "execution_count": 37,
   "metadata": {},
   "outputs": [
    {
     "data": {
      "image/png": "[encoded data removed]",
      "text/plain": [
       "<Figure size 864x432 with 1 Axes>"
      ]
     },
     "metadata": {
      "needs_background": "light"
     },
     "output_type": "display_data"
    }
   ],
   "source": [
    "train_data.groupby(['is_4G','is_click']).size().unstack().plot(kind='bar', title=\"is_4G\", figsize=(12,6))\n",
    "ticks = list(range(0, 7, 1)) # points on the x axis where you want the label to appear\n",
    "\n",
    "\n",
    "plt.title('Impressions vs. clicks by is_4G');"
   ]
  },
  {
   "cell_type": "markdown",
   "metadata": {},
   "source": [
    "# CTR of is_4g"
   ]
  },
  {
   "cell_type": "code",
   "execution_count": 38,
   "metadata": {},
   "outputs": [
    {
     "name": "stdout",
     "output_type": "stream",
     "text": [
      "for C1 value: 0,  click through rate: 0.04625785790534931\n",
      "for C1 value: 1,  click through rate: 0.04475195396675636\n"
     ]
    }
   ],
   "source": [
    "is_4G_values = train_data.is_4G.unique()\n",
    "is_4G_values.sort()\n",
    "ctr_avg_list=[]\n",
    "for i in is_4G_values:\n",
    "    ctr_avg=train_data.loc[np.where((train_data.is_4G == i))].is_click.mean()\n",
    "    ctr_avg_list.append(ctr_avg)\n",
    "    print(\"for C1 value: {},  click through rate: {}\".format(i,ctr_avg))"
   ]
  },
  {
   "cell_type": "markdown",
   "metadata": {},
   "source": [
    "# os_version"
   ]
  },
  {
   "cell_type": "markdown",
   "metadata": {},
   "source": [
    "def os(row):\n",
    "    if row == 'old' :\n",
    "        return 0\n",
    "    elif row == 'intermediate':\n",
    "        return 1\n",
    "    elif row == 'latest':\n",
    "        return 2\n",
    "    \n",
    "temp2 = train_final['os_version'].apply(os) \n",
    "train_final['os__version']=temp2\n",
    "\n",
    "temp2 = test_final['os_version'].apply(os) \n",
    "test_final['os__version']=temp2\n"
   ]
  },
  {
   "cell_type": "code",
   "execution_count": 46,
   "metadata": {},
   "outputs": [
    {
     "data": {
      "text/html": [
       "<div>\n",
       "<style scoped>\n",
       "    .dataframe tbody tr th:only-of-type {\n",
       "        vertical-align: middle;\n",
       "    }\n",
       "\n",
       "    .dataframe tbody tr th {\n",
       "        vertical-align: top;\n",
       "    }\n",
       "\n",
       "    .dataframe thead th {\n",
       "        text-align: right;\n",
       "    }\n",
       "</style>\n",
       "<table border=\"1\" class=\"dataframe\">\n",
       "  <thead>\n",
       "    <tr style=\"text-align: right;\">\n",
       "      <th></th>\n",
       "      <th>impression_id</th>\n",
       "      <th>impression_time</th>\n",
       "      <th>user_id</th>\n",
       "      <th>app_code</th>\n",
       "      <th>os_version</th>\n",
       "      <th>is_4G</th>\n",
       "      <th>is_click</th>\n",
       "      <th>server_time</th>\n",
       "      <th>device_type</th>\n",
       "      <th>session_id</th>\n",
       "      <th>...</th>\n",
       "      <th>st_year</th>\n",
       "      <th>st_month</th>\n",
       "      <th>st_day</th>\n",
       "      <th>st_Hour</th>\n",
       "      <th>st_min</th>\n",
       "      <th>imp day of week</th>\n",
       "      <th>st day of week</th>\n",
       "      <th>imp_weekend</th>\n",
       "      <th>st_weekend</th>\n",
       "      <th>os__version</th>\n",
       "    </tr>\n",
       "  </thead>\n",
       "  <tbody>\n",
       "    <tr>\n",
       "      <th>0</th>\n",
       "      <td>c4ca4238a0b923820dcc509a6f75849b</td>\n",
       "      <td>2018-11-15 00:00:00</td>\n",
       "      <td>87862</td>\n",
       "      <td>422</td>\n",
       "      <td>old</td>\n",
       "      <td>0</td>\n",
       "      <td>0</td>\n",
       "      <td>2018-11-15 00:00:00</td>\n",
       "      <td>android</td>\n",
       "      <td>190710</td>\n",
       "      <td>...</td>\n",
       "      <td>2018</td>\n",
       "      <td>11</td>\n",
       "      <td>15</td>\n",
       "      <td>0</td>\n",
       "      <td>0</td>\n",
       "      <td>3</td>\n",
       "      <td>3</td>\n",
       "      <td>0</td>\n",
       "      <td>0</td>\n",
       "      <td>0</td>\n",
       "    </tr>\n",
       "    <tr>\n",
       "      <th>1</th>\n",
       "      <td>45c48cce2e2d7fbdea1afc51c7c6ad26</td>\n",
       "      <td>2018-11-15 00:01:00</td>\n",
       "      <td>63410</td>\n",
       "      <td>467</td>\n",
       "      <td>latest</td>\n",
       "      <td>1</td>\n",
       "      <td>1</td>\n",
       "      <td>2018-11-15 00:01:00</td>\n",
       "      <td>android</td>\n",
       "      <td>356854</td>\n",
       "      <td>...</td>\n",
       "      <td>2018</td>\n",
       "      <td>11</td>\n",
       "      <td>15</td>\n",
       "      <td>0</td>\n",
       "      <td>1</td>\n",
       "      <td>3</td>\n",
       "      <td>3</td>\n",
       "      <td>0</td>\n",
       "      <td>0</td>\n",
       "      <td>2</td>\n",
       "    </tr>\n",
       "    <tr>\n",
       "      <th>2</th>\n",
       "      <td>45c48cce2e2d7fbdea1afc51c7c6ad26</td>\n",
       "      <td>2018-11-15 00:01:00</td>\n",
       "      <td>63410</td>\n",
       "      <td>467</td>\n",
       "      <td>latest</td>\n",
       "      <td>1</td>\n",
       "      <td>1</td>\n",
       "      <td>2018-11-15 00:01:00</td>\n",
       "      <td>android</td>\n",
       "      <td>356854</td>\n",
       "      <td>...</td>\n",
       "      <td>2018</td>\n",
       "      <td>11</td>\n",
       "      <td>15</td>\n",
       "      <td>0</td>\n",
       "      <td>1</td>\n",
       "      <td>3</td>\n",
       "      <td>3</td>\n",
       "      <td>0</td>\n",
       "      <td>0</td>\n",
       "      <td>2</td>\n",
       "    </tr>\n",
       "  </tbody>\n",
       "</table>\n",
       "<p>3 rows × 31 columns</p>\n",
       "</div>"
      ],
      "text/plain": [
       "                      impression_id     impression_time  user_id  app_code  \\\n",
       "0  c4ca4238a0b923820dcc509a6f75849b 2018-11-15 00:00:00    87862       422   \n",
       "1  45c48cce2e2d7fbdea1afc51c7c6ad26 2018-11-15 00:01:00    63410       467   \n",
       "2  45c48cce2e2d7fbdea1afc51c7c6ad26 2018-11-15 00:01:00    63410       467   \n",
       "\n",
       "  os_version  is_4G  is_click         server_time device_type  session_id  \\\n",
       "0        old      0         0 2018-11-15 00:00:00     android      190710   \n",
       "1     latest      1         1 2018-11-15 00:01:00     android      356854   \n",
       "2     latest      1         1 2018-11-15 00:01:00     android      356854   \n",
       "\n",
       "      ...       st_year  st_month  st_day  st_Hour  st_min  imp day of week  \\\n",
       "0     ...          2018        11      15        0       0                3   \n",
       "1     ...          2018        11      15        0       1                3   \n",
       "2     ...          2018        11      15        0       1                3   \n",
       "\n",
       "   st day of week  imp_weekend  st_weekend  os__version  \n",
       "0               3            0           0            0  \n",
       "1               3            0           0            2  \n",
       "2               3            0           0            2  \n",
       "\n",
       "[3 rows x 31 columns]"
      ]
     },
     "execution_count": 46,
     "metadata": {},
     "output_type": "execute_result"
    }
   ],
   "source": [
    "train_final.head(3)"
   ]
  },
  {
   "cell_type": "code",
   "execution_count": 41,
   "metadata": {},
   "outputs": [
    {
     "name": "stdout",
     "output_type": "stream",
     "text": [
      "The impressions by os_version types\n",
      "latest          0.543818\n",
      "intermediate    0.233758\n",
      "old             0.222424\n",
      "Name: os_version, dtype: float64\n"
     ]
    }
   ],
   "source": [
    "print('The impressions by os_version types')\n",
    "print((train_data.os_version.value_counts()/len(train_data)))"
   ]
  },
  {
   "cell_type": "code",
   "execution_count": 42,
   "metadata": {},
   "outputs": [
    {
     "data": {
      "image/png": "[encoded data removed]",
      "text/plain": [
       "<Figure size 432x288 with 1 Axes>"
      ]
     },
     "metadata": {
      "needs_background": "light"
     },
     "output_type": "display_data"
    }
   ],
   "source": [
    "train_data[['os_version','is_click']].groupby(['os_version','is_click']).size().unstack().plot(kind='bar', title='os_version types');"
   ]
  },
  {
   "cell_type": "code",
   "execution_count": 43,
   "metadata": {},
   "outputs": [
    {
     "data": {
      "text/html": [
       "<div>\n",
       "<style scoped>\n",
       "    .dataframe tbody tr th:only-of-type {\n",
       "        vertical-align: middle;\n",
       "    }\n",
       "\n",
       "    .dataframe tbody tr th {\n",
       "        vertical-align: top;\n",
       "    }\n",
       "\n",
       "    .dataframe thead th {\n",
       "        text-align: right;\n",
       "    }\n",
       "</style>\n",
       "<table border=\"1\" class=\"dataframe\">\n",
       "  <thead>\n",
       "    <tr style=\"text-align: right;\">\n",
       "      <th></th>\n",
       "      <th>os_version</th>\n",
       "      <th>is_click</th>\n",
       "      <th>impressions</th>\n",
       "      <th>CTR</th>\n",
       "    </tr>\n",
       "  </thead>\n",
       "  <tbody>\n",
       "    <tr>\n",
       "      <th>0</th>\n",
       "      <td>intermediate</td>\n",
       "      <td>2875</td>\n",
       "      <td>55543</td>\n",
       "      <td>5.176170</td>\n",
       "    </tr>\n",
       "    <tr>\n",
       "      <th>1</th>\n",
       "      <td>latest</td>\n",
       "      <td>5382</td>\n",
       "      <td>129216</td>\n",
       "      <td>4.165119</td>\n",
       "    </tr>\n",
       "    <tr>\n",
       "      <th>2</th>\n",
       "      <td>old</td>\n",
       "      <td>2605</td>\n",
       "      <td>52850</td>\n",
       "      <td>4.929044</td>\n",
       "    </tr>\n",
       "  </tbody>\n",
       "</table>\n",
       "</div>"
      ],
      "text/plain": [
       "     os_version  is_click  impressions       CTR\n",
       "0  intermediate      2875        55543  5.176170\n",
       "1        latest      5382       129216  4.165119\n",
       "2           old      2605        52850  4.929044"
      ]
     },
     "execution_count": 43,
     "metadata": {},
     "output_type": "execute_result"
    }
   ],
   "source": [
    "device_type_click = df_click.groupby('os_version').agg({'is_click':'sum'}).reset_index()\n",
    "device_type_impression = train_data.groupby('os_version').agg({'is_click':'count'}).reset_index().rename(columns={'is_click': 'impressions'})\n",
    "merged_device_type = pd.merge(left = device_type_click , right = device_type_impression, how = 'inner', on = 'os_version')\n",
    "merged_device_type['CTR'] = merged_device_type['is_click'] / merged_device_type['impressions']*100\n",
    "merged_device_type"
   ]
  },
  {
   "cell_type": "code",
   "execution_count": 52,
   "metadata": {},
   "outputs": [
    {
     "data": {
      "text/plain": [
       "android    11049891\n",
       "iphone         2875\n",
       "web             116\n",
       "Name: device_type, dtype: int64"
      ]
     },
     "execution_count": 52,
     "metadata": {},
     "output_type": "execute_result"
    }
   ],
   "source": [
    "train_final['device_type'].value_counts()"
   ]
  },
  {
   "cell_type": "code",
   "execution_count": 48,
   "metadata": {},
   "outputs": [
    {
     "data": {
      "text/plain": [
       "Index(['impression_id', 'impression_time', 'user_id', 'app_code', 'os_version',\n",
       "       'is_4G', 'is_click', 'server_time', 'device_type', 'session_id',\n",
       "       'item_id', 'item_price', 'category_1', 'category_2', 'category_3',\n",
       "       'product_type', 'imp_year', 'imp_month', 'imp_day', 'imp_Hour',\n",
       "       'imp_min', 'st_year', 'st_month', 'st_day', 'st_Hour', 'st_min',\n",
       "       'imp day of week', 'st day of week', 'imp_weekend', 'st_weekend',\n",
       "       'os__version'],\n",
       "      dtype='object')"
      ]
     },
     "execution_count": 48,
     "metadata": {},
     "output_type": "execute_result"
    }
   ],
   "source": [
    "train_final.columns"
   ]
  },
  {
   "cell_type": "markdown",
   "metadata": {},
   "source": [
    "# One Hot Encoding"
   ]
  },
  {
   "cell_type": "code",
   "execution_count": 49,
   "metadata": {},
   "outputs": [
    {
     "data": {
      "text/html": [
       "<div>\n",
       "<style scoped>\n",
       "    .dataframe tbody tr th:only-of-type {\n",
       "        vertical-align: middle;\n",
       "    }\n",
       "\n",
       "    .dataframe tbody tr th {\n",
       "        vertical-align: top;\n",
       "    }\n",
       "\n",
       "    .dataframe thead th {\n",
       "        text-align: right;\n",
       "    }\n",
       "</style>\n",
       "<table border=\"1\" class=\"dataframe\">\n",
       "  <thead>\n",
       "    <tr style=\"text-align: right;\">\n",
       "      <th></th>\n",
       "      <th>impression_id</th>\n",
       "      <th>impression_time</th>\n",
       "      <th>user_id</th>\n",
       "      <th>app_code</th>\n",
       "      <th>is_4G</th>\n",
       "      <th>is_click</th>\n",
       "      <th>server_time</th>\n",
       "      <th>session_id</th>\n",
       "      <th>item_id</th>\n",
       "      <th>item_price</th>\n",
       "      <th>...</th>\n",
       "      <th>imp day of week</th>\n",
       "      <th>st day of week</th>\n",
       "      <th>imp_weekend</th>\n",
       "      <th>st_weekend</th>\n",
       "      <th>os_version_intermediate</th>\n",
       "      <th>os_version_latest</th>\n",
       "      <th>os_version_old</th>\n",
       "      <th>device_type_android</th>\n",
       "      <th>device_type_iphone</th>\n",
       "      <th>device_type_web</th>\n",
       "    </tr>\n",
       "  </thead>\n",
       "  <tbody>\n",
       "    <tr>\n",
       "      <th>0</th>\n",
       "      <td>c4ca4238a0b923820dcc509a6f75849b</td>\n",
       "      <td>2018-11-15 00:00:00</td>\n",
       "      <td>87862</td>\n",
       "      <td>422</td>\n",
       "      <td>0</td>\n",
       "      <td>0</td>\n",
       "      <td>2018-11-15 00:00:00</td>\n",
       "      <td>190710</td>\n",
       "      <td>43886</td>\n",
       "      <td>2350.0</td>\n",
       "      <td>...</td>\n",
       "      <td>3</td>\n",
       "      <td>3</td>\n",
       "      <td>0</td>\n",
       "      <td>0</td>\n",
       "      <td>0</td>\n",
       "      <td>0</td>\n",
       "      <td>1</td>\n",
       "      <td>1</td>\n",
       "      <td>0</td>\n",
       "      <td>0</td>\n",
       "    </tr>\n",
       "    <tr>\n",
       "      <th>1</th>\n",
       "      <td>45c48cce2e2d7fbdea1afc51c7c6ad26</td>\n",
       "      <td>2018-11-15 00:01:00</td>\n",
       "      <td>63410</td>\n",
       "      <td>467</td>\n",
       "      <td>1</td>\n",
       "      <td>1</td>\n",
       "      <td>2018-11-15 00:01:00</td>\n",
       "      <td>356854</td>\n",
       "      <td>43209</td>\n",
       "      <td>3421.0</td>\n",
       "      <td>...</td>\n",
       "      <td>3</td>\n",
       "      <td>3</td>\n",
       "      <td>0</td>\n",
       "      <td>0</td>\n",
       "      <td>0</td>\n",
       "      <td>1</td>\n",
       "      <td>0</td>\n",
       "      <td>1</td>\n",
       "      <td>0</td>\n",
       "      <td>0</td>\n",
       "    </tr>\n",
       "    <tr>\n",
       "      <th>13</th>\n",
       "      <td>70efdf2ec9b086079795c442636b55fb</td>\n",
       "      <td>2018-11-15 00:02:00</td>\n",
       "      <td>71748</td>\n",
       "      <td>259</td>\n",
       "      <td>1</td>\n",
       "      <td>0</td>\n",
       "      <td>2018-11-15 00:02:00</td>\n",
       "      <td>658178</td>\n",
       "      <td>122348</td>\n",
       "      <td>973.0</td>\n",
       "      <td>...</td>\n",
       "      <td>3</td>\n",
       "      <td>3</td>\n",
       "      <td>0</td>\n",
       "      <td>0</td>\n",
       "      <td>1</td>\n",
       "      <td>0</td>\n",
       "      <td>0</td>\n",
       "      <td>1</td>\n",
       "      <td>0</td>\n",
       "      <td>0</td>\n",
       "    </tr>\n",
       "  </tbody>\n",
       "</table>\n",
       "<p>3 rows × 34 columns</p>\n",
       "</div>"
      ],
      "text/plain": [
       "                       impression_id     impression_time  user_id  app_code  \\\n",
       "0   c4ca4238a0b923820dcc509a6f75849b 2018-11-15 00:00:00    87862       422   \n",
       "1   45c48cce2e2d7fbdea1afc51c7c6ad26 2018-11-15 00:01:00    63410       467   \n",
       "13  70efdf2ec9b086079795c442636b55fb 2018-11-15 00:02:00    71748       259   \n",
       "\n",
       "    is_4G  is_click         server_time  session_id  item_id  item_price  \\\n",
       "0       0         0 2018-11-15 00:00:00      190710    43886      2350.0   \n",
       "1       1         1 2018-11-15 00:01:00      356854    43209      3421.0   \n",
       "13      1         0 2018-11-15 00:02:00      658178   122348       973.0   \n",
       "\n",
       "         ...         imp day of week  st day of week  imp_weekend  st_weekend  \\\n",
       "0        ...                       3               3            0           0   \n",
       "1        ...                       3               3            0           0   \n",
       "13       ...                       3               3            0           0   \n",
       "\n",
       "    os_version_intermediate  os_version_latest  os_version_old  \\\n",
       "0                         0                  0               1   \n",
       "1                         0                  1               0   \n",
       "13                        1                  0               0   \n",
       "\n",
       "    device_type_android  device_type_iphone  device_type_web  \n",
       "0                     1                   0                0  \n",
       "1                     1                   0                0  \n",
       "13                    1                   0                0  \n",
       "\n",
       "[3 rows x 34 columns]"
      ]
     },
     "execution_count": 49,
     "metadata": {},
     "output_type": "execute_result"
    }
   ],
   "source": [
    "train_final = pd.get_dummies(data = train_final,columns = [\"os_version\",\"device_type\"])\n",
    "\n",
    "train_final.head(3)"
   ]
  },
  {
   "cell_type": "code",
   "execution_count": 50,
   "metadata": {},
   "outputs": [
    {
     "data": {
      "text/html": [
       "<div>\n",
       "<style scoped>\n",
       "    .dataframe tbody tr th:only-of-type {\n",
       "        vertical-align: middle;\n",
       "    }\n",
       "\n",
       "    .dataframe tbody tr th {\n",
       "        vertical-align: top;\n",
       "    }\n",
       "\n",
       "    .dataframe thead th {\n",
       "        text-align: right;\n",
       "    }\n",
       "</style>\n",
       "<table border=\"1\" class=\"dataframe\">\n",
       "  <thead>\n",
       "    <tr style=\"text-align: right;\">\n",
       "      <th></th>\n",
       "      <th>impression_id</th>\n",
       "      <th>impression_time</th>\n",
       "      <th>user_id</th>\n",
       "      <th>app_code</th>\n",
       "      <th>is_4G</th>\n",
       "      <th>server_time</th>\n",
       "      <th>session_id</th>\n",
       "      <th>item_id</th>\n",
       "      <th>item_price</th>\n",
       "      <th>category_1</th>\n",
       "      <th>...</th>\n",
       "      <th>imp day of week</th>\n",
       "      <th>st day of week</th>\n",
       "      <th>imp_weekend</th>\n",
       "      <th>st_weekend</th>\n",
       "      <th>os_version_intermediate</th>\n",
       "      <th>os_version_latest</th>\n",
       "      <th>os_version_old</th>\n",
       "      <th>device_type_android</th>\n",
       "      <th>device_type_iphone</th>\n",
       "      <th>device_type_web</th>\n",
       "    </tr>\n",
       "  </thead>\n",
       "  <tbody>\n",
       "    <tr>\n",
       "      <th>0</th>\n",
       "      <td>a9e7126a585a69a32bc7414e9d0c0ada</td>\n",
       "      <td>2018-12-13 07:44:00</td>\n",
       "      <td>44754</td>\n",
       "      <td>127</td>\n",
       "      <td>1</td>\n",
       "      <td>2018-12-13 07:44:00</td>\n",
       "      <td>923045</td>\n",
       "      <td>128995</td>\n",
       "      <td>23424.0</td>\n",
       "      <td>1.0</td>\n",
       "      <td>...</td>\n",
       "      <td>3</td>\n",
       "      <td>3</td>\n",
       "      <td>0</td>\n",
       "      <td>0</td>\n",
       "      <td>0</td>\n",
       "      <td>1</td>\n",
       "      <td>0</td>\n",
       "      <td>1</td>\n",
       "      <td>0</td>\n",
       "      <td>0</td>\n",
       "    </tr>\n",
       "    <tr>\n",
       "      <th>1</th>\n",
       "      <td>caac14a5bf2ba283db7708bb34855760</td>\n",
       "      <td>2018-12-13 07:45:00</td>\n",
       "      <td>29656</td>\n",
       "      <td>44</td>\n",
       "      <td>0</td>\n",
       "      <td>2018-12-13 07:45:00</td>\n",
       "      <td>368797</td>\n",
       "      <td>55912</td>\n",
       "      <td>1529.0</td>\n",
       "      <td>9.0</td>\n",
       "      <td>...</td>\n",
       "      <td>3</td>\n",
       "      <td>3</td>\n",
       "      <td>0</td>\n",
       "      <td>0</td>\n",
       "      <td>0</td>\n",
       "      <td>1</td>\n",
       "      <td>0</td>\n",
       "      <td>1</td>\n",
       "      <td>0</td>\n",
       "      <td>0</td>\n",
       "    </tr>\n",
       "    <tr>\n",
       "      <th>73</th>\n",
       "      <td>13f10ba306a19ce7bec2f3cae507b698</td>\n",
       "      <td>2018-12-13 07:46:00</td>\n",
       "      <td>25234</td>\n",
       "      <td>296</td>\n",
       "      <td>1</td>\n",
       "      <td>2018-12-13 07:46:00</td>\n",
       "      <td>568979</td>\n",
       "      <td>94943</td>\n",
       "      <td>20309.0</td>\n",
       "      <td>9.0</td>\n",
       "      <td>...</td>\n",
       "      <td>3</td>\n",
       "      <td>3</td>\n",
       "      <td>0</td>\n",
       "      <td>0</td>\n",
       "      <td>0</td>\n",
       "      <td>1</td>\n",
       "      <td>0</td>\n",
       "      <td>1</td>\n",
       "      <td>0</td>\n",
       "      <td>0</td>\n",
       "    </tr>\n",
       "  </tbody>\n",
       "</table>\n",
       "<p>3 rows × 33 columns</p>\n",
       "</div>"
      ],
      "text/plain": [
       "                       impression_id     impression_time  user_id  app_code  \\\n",
       "0   a9e7126a585a69a32bc7414e9d0c0ada 2018-12-13 07:44:00    44754       127   \n",
       "1   caac14a5bf2ba283db7708bb34855760 2018-12-13 07:45:00    29656        44   \n",
       "73  13f10ba306a19ce7bec2f3cae507b698 2018-12-13 07:46:00    25234       296   \n",
       "\n",
       "    is_4G         server_time  session_id  item_id  item_price  category_1  \\\n",
       "0       1 2018-12-13 07:44:00      923045   128995     23424.0         1.0   \n",
       "1       0 2018-12-13 07:45:00      368797    55912      1529.0         9.0   \n",
       "73      1 2018-12-13 07:46:00      568979    94943     20309.0         9.0   \n",
       "\n",
       "         ...         imp day of week  st day of week  imp_weekend  st_weekend  \\\n",
       "0        ...                       3               3            0           0   \n",
       "1        ...                       3               3            0           0   \n",
       "73       ...                       3               3            0           0   \n",
       "\n",
       "    os_version_intermediate  os_version_latest  os_version_old  \\\n",
       "0                         0                  1               0   \n",
       "1                         0                  1               0   \n",
       "73                        0                  1               0   \n",
       "\n",
       "    device_type_android  device_type_iphone  device_type_web  \n",
       "0                     1                   0                0  \n",
       "1                     1                   0                0  \n",
       "73                    1                   0                0  \n",
       "\n",
       "[3 rows x 33 columns]"
      ]
     },
     "execution_count": 50,
     "metadata": {},
     "output_type": "execute_result"
    }
   ],
   "source": [
    "test_final = pd.get_dummies(data = test_final,columns = [\"os_version\",\"device_type\"])\n",
    "\n",
    "test_final.head(3)"
   ]
  },
  {
   "cell_type": "code",
   "execution_count": 51,
   "metadata": {},
   "outputs": [],
   "source": [
    "test_final_imp_id = test_final[\"impression_id\"]"
   ]
  },
  {
   "cell_type": "code",
   "execution_count": 52,
   "metadata": {},
   "outputs": [],
   "source": [
    "train_final.drop(columns = [\"impression_id\",\"impression_time\",\"user_id\",\"server_time\",'session_id','item_id'],inplace = True)\n",
    "\n",
    "test_final.drop(columns = [\"impression_id\",\"impression_time\",\"user_id\",\"server_time\",'session_id','item_id'],inplace = True)\n",
    "\n"
   ]
  },
  {
   "cell_type": "code",
   "execution_count": 53,
   "metadata": {},
   "outputs": [
    {
     "data": {
      "text/html": [
       "<div>\n",
       "<style scoped>\n",
       "    .dataframe tbody tr th:only-of-type {\n",
       "        vertical-align: middle;\n",
       "    }\n",
       "\n",
       "    .dataframe tbody tr th {\n",
       "        vertical-align: top;\n",
       "    }\n",
       "\n",
       "    .dataframe thead th {\n",
       "        text-align: right;\n",
       "    }\n",
       "</style>\n",
       "<table border=\"1\" class=\"dataframe\">\n",
       "  <thead>\n",
       "    <tr style=\"text-align: right;\">\n",
       "      <th></th>\n",
       "      <th>app_code</th>\n",
       "      <th>is_4G</th>\n",
       "      <th>is_click</th>\n",
       "      <th>item_price</th>\n",
       "      <th>category_1</th>\n",
       "      <th>category_2</th>\n",
       "      <th>category_3</th>\n",
       "      <th>product_type</th>\n",
       "      <th>imp_year</th>\n",
       "      <th>imp_month</th>\n",
       "      <th>...</th>\n",
       "      <th>imp day of week</th>\n",
       "      <th>st day of week</th>\n",
       "      <th>imp_weekend</th>\n",
       "      <th>st_weekend</th>\n",
       "      <th>os_version_intermediate</th>\n",
       "      <th>os_version_latest</th>\n",
       "      <th>os_version_old</th>\n",
       "      <th>device_type_android</th>\n",
       "      <th>device_type_iphone</th>\n",
       "      <th>device_type_web</th>\n",
       "    </tr>\n",
       "  </thead>\n",
       "  <tbody>\n",
       "    <tr>\n",
       "      <th>0</th>\n",
       "      <td>422</td>\n",
       "      <td>0</td>\n",
       "      <td>0</td>\n",
       "      <td>2350.0</td>\n",
       "      <td>11.0</td>\n",
       "      <td>35.0</td>\n",
       "      <td>20.0</td>\n",
       "      <td>5622.0</td>\n",
       "      <td>2018</td>\n",
       "      <td>11</td>\n",
       "      <td>...</td>\n",
       "      <td>3</td>\n",
       "      <td>3</td>\n",
       "      <td>0</td>\n",
       "      <td>0</td>\n",
       "      <td>0</td>\n",
       "      <td>0</td>\n",
       "      <td>1</td>\n",
       "      <td>1</td>\n",
       "      <td>0</td>\n",
       "      <td>0</td>\n",
       "    </tr>\n",
       "    <tr>\n",
       "      <th>1</th>\n",
       "      <td>467</td>\n",
       "      <td>1</td>\n",
       "      <td>1</td>\n",
       "      <td>3421.0</td>\n",
       "      <td>4.0</td>\n",
       "      <td>74.0</td>\n",
       "      <td>292.0</td>\n",
       "      <td>577.0</td>\n",
       "      <td>2018</td>\n",
       "      <td>11</td>\n",
       "      <td>...</td>\n",
       "      <td>3</td>\n",
       "      <td>3</td>\n",
       "      <td>0</td>\n",
       "      <td>0</td>\n",
       "      <td>0</td>\n",
       "      <td>1</td>\n",
       "      <td>0</td>\n",
       "      <td>1</td>\n",
       "      <td>0</td>\n",
       "      <td>0</td>\n",
       "    </tr>\n",
       "    <tr>\n",
       "      <th>13</th>\n",
       "      <td>259</td>\n",
       "      <td>1</td>\n",
       "      <td>0</td>\n",
       "      <td>973.0</td>\n",
       "      <td>13.0</td>\n",
       "      <td>67.0</td>\n",
       "      <td>170.0</td>\n",
       "      <td>2874.0</td>\n",
       "      <td>2018</td>\n",
       "      <td>11</td>\n",
       "      <td>...</td>\n",
       "      <td>3</td>\n",
       "      <td>3</td>\n",
       "      <td>0</td>\n",
       "      <td>0</td>\n",
       "      <td>1</td>\n",
       "      <td>0</td>\n",
       "      <td>0</td>\n",
       "      <td>1</td>\n",
       "      <td>0</td>\n",
       "      <td>0</td>\n",
       "    </tr>\n",
       "  </tbody>\n",
       "</table>\n",
       "<p>3 rows × 28 columns</p>\n",
       "</div>"
      ],
      "text/plain": [
       "    app_code  is_4G  is_click  item_price  category_1  category_2  category_3  \\\n",
       "0        422      0         0      2350.0        11.0        35.0        20.0   \n",
       "1        467      1         1      3421.0         4.0        74.0       292.0   \n",
       "13       259      1         0       973.0        13.0        67.0       170.0   \n",
       "\n",
       "    product_type  imp_year  imp_month       ...         imp day of week  \\\n",
       "0         5622.0      2018         11       ...                       3   \n",
       "1          577.0      2018         11       ...                       3   \n",
       "13        2874.0      2018         11       ...                       3   \n",
       "\n",
       "    st day of week  imp_weekend  st_weekend  os_version_intermediate  \\\n",
       "0                3            0           0                        0   \n",
       "1                3            0           0                        0   \n",
       "13               3            0           0                        1   \n",
       "\n",
       "    os_version_latest  os_version_old  device_type_android  \\\n",
       "0                   0               1                    1   \n",
       "1                   1               0                    1   \n",
       "13                  0               0                    1   \n",
       "\n",
       "    device_type_iphone  device_type_web  \n",
       "0                    0                0  \n",
       "1                    0                0  \n",
       "13                   0                0  \n",
       "\n",
       "[3 rows x 28 columns]"
      ]
     },
     "execution_count": 53,
     "metadata": {},
     "output_type": "execute_result"
    }
   ],
   "source": [
    "train_final.head(3)"
   ]
  },
  {
   "cell_type": "code",
   "execution_count": 54,
   "metadata": {},
   "outputs": [
    {
     "data": {
      "text/plain": [
       "((237609, 28), (90675, 27))"
      ]
     },
     "execution_count": 54,
     "metadata": {},
     "output_type": "execute_result"
    }
   ],
   "source": [
    "train_final.shape,test_final.shape"
   ]
  },
  {
   "cell_type": "markdown",
   "metadata": {},
   "source": [
    "# Train Models"
   ]
  },
  {
   "cell_type": "markdown",
   "metadata": {},
   "source": [
    "# XGB"
   ]
  },
  {
   "cell_type": "code",
   "execution_count": 94,
   "metadata": {},
   "outputs": [
    {
     "data": {
      "text/plain": [
       "XGBClassifier(base_score=0.5, booster='gbtree', class_weight='balanced',\n",
       "       colsample_bylevel=1, colsample_bynode=1, colsample_bytree=0.5,\n",
       "       eta=0.01, eval_metric='auc', gamma=0, learning_rate=0.1,\n",
       "       max_delta_step=0, max_depth=50, min_child_weight=0.1, missing=None,\n",
       "       n_estimators=50, n_jobs=1, nthread=None,\n",
       "       objective='binary:logistic', random_state=0, reg_alpha=0.01,\n",
       "       reg_lambda=100, scale_pos_weight=1, seed=None, silent=None,\n",
       "       subsample=0.9, verbosity=1)"
      ]
     },
     "execution_count": 94,
     "metadata": {},
     "output_type": "execute_result"
    }
   ],
   "source": [
    "import xgboost as xgb\n",
    "\n",
    "xb_clf1=xgb.XGBClassifier(objective = \"binary:logistic\" ,eval_metric= 'auc',n_estimators = 50,max_depth = 50,reg_lambda = 100,reg_alpha = 0.01,colsample_bytree = 0.5,subsample = 0.9,eta = 0.01,min_child_weight = 0.1,class_weight = \"balanced\")\n",
    "xb_clf1.fit(x_train,y_train)"
   ]
  },
  {
   "cell_type": "code",
   "execution_count": 95,
   "metadata": {},
   "outputs": [
    {
     "data": {
      "image/png": "[encoded data removed]",
      "text/plain": [
       "<Figure size 432x288 with 1 Axes>"
      ]
     },
     "metadata": {
      "needs_background": "light"
     },
     "output_type": "display_data"
    }
   ],
   "source": [
    "from  sklearn.metrics import roc_curve\n",
    "from sklearn.metrics import auc\n",
    "import matplotlib.pyplot as plt\n",
    "\n",
    "\n",
    "score_roc_train = xb_clf1.predict_proba(x_train)\n",
    "fpr_train, tpr_train, threshold_train = roc_curve(y_train, score_roc_train[:,1])\n",
    "roc_auc_train = auc(fpr_train, tpr_train)\n",
    "\n",
    "\n",
    "\n",
    "\n",
    "plt.plot(fpr_train, tpr_train, label = \"Train_AUC\"+str(auc(fpr_train, tpr_train)))\n",
    "#plt.plot(fpr_valid, tpr_valid, label = \"Test_AUC\"+str(auc(fpr_valid, tpr_valid)))\n",
    "plt.legend(loc = 'lower right')\n",
    "\n",
    "plt.plot([0, 1], [0, 1],'r--')\n",
    "plt.xlim([0, 1])\n",
    "plt.ylim([0, 1])\n",
    "\n",
    "plt.ylabel('True Positive Rate')\n",
    "plt.xlabel('False Positive Rate')\n",
    "plt.title('ROC Curve of DT ')\n",
    "plt.show()\n"
   ]
  },
  {
   "cell_type": "markdown",
   "metadata": {},
   "source": [
    "# Submission"
   ]
  },
  {
   "cell_type": "code",
   "execution_count": 97,
   "metadata": {},
   "outputs": [],
   "source": [
    "y_test_pred = xb_clf1.predict_proba(test_final)"
   ]
  },
  {
   "cell_type": "code",
   "execution_count": 98,
   "metadata": {},
   "outputs": [
    {
     "data": {
      "text/html": [
       "<div>\n",
       "<style scoped>\n",
       "    .dataframe tbody tr th:only-of-type {\n",
       "        vertical-align: middle;\n",
       "    }\n",
       "\n",
       "    .dataframe tbody tr th {\n",
       "        vertical-align: top;\n",
       "    }\n",
       "\n",
       "    .dataframe thead th {\n",
       "        text-align: right;\n",
       "    }\n",
       "</style>\n",
       "<table border=\"1\" class=\"dataframe\">\n",
       "  <thead>\n",
       "    <tr style=\"text-align: right;\">\n",
       "      <th></th>\n",
       "      <th>impression_id</th>\n",
       "      <th>is_click</th>\n",
       "    </tr>\n",
       "  </thead>\n",
       "  <tbody>\n",
       "    <tr>\n",
       "      <th>0</th>\n",
       "      <td>a9e7126a585a69a32bc7414e9d0c0ada</td>\n",
       "      <td>0.058639</td>\n",
       "    </tr>\n",
       "    <tr>\n",
       "      <th>1</th>\n",
       "      <td>caac14a5bf2ba283db7708bb34855760</td>\n",
       "      <td>0.030869</td>\n",
       "    </tr>\n",
       "    <tr>\n",
       "      <th>73</th>\n",
       "      <td>13f10ba306a19ce7bec2f3cae507b698</td>\n",
       "      <td>0.066995</td>\n",
       "    </tr>\n",
       "  </tbody>\n",
       "</table>\n",
       "</div>"
      ],
      "text/plain": [
       "                       impression_id  is_click\n",
       "0   a9e7126a585a69a32bc7414e9d0c0ada  0.058639\n",
       "1   caac14a5bf2ba283db7708bb34855760  0.030869\n",
       "73  13f10ba306a19ce7bec2f3cae507b698  0.066995"
      ]
     },
     "execution_count": 98,
     "metadata": {},
     "output_type": "execute_result"
    }
   ],
   "source": [
    "\n",
    "\n",
    "# Get IDs and predictions\n",
    "#predids=test_orig['impression_id']\n",
    "#y_id=predids.values.tolist()\n",
    "preddf=pd.DataFrame({'impression_id':test_final_imp_id,\n",
    "                     'is_click':y_test_pred[:,1]})\n",
    "\n",
    "#look at predictions\n",
    "preddf.head(3)\n",
    "\n",
    "\n"
   ]
  },
  {
   "cell_type": "code",
   "execution_count": 99,
   "metadata": {},
   "outputs": [],
   "source": [
    "# SAVE DF\n",
    "preddf.to_csv('submission_new_xgb11.csv',index=False)\n",
    "\n"
   ]
  },
  {
   "cell_type": "markdown",
   "metadata": {},
   "source": [
    "# Public Leaderboard : 0.7074514068\n",
    "\n",
    "# Private Leaderboard : 0.7126746091\n",
    "\n",
    "# Got 204 rank among 6000+ participants\n"
   ]
  }
 ],
 "metadata": {
  "kernelspec": {
   "display_name": "Python 3",
   "language": "python",
   "name": "python3"
  },
  "language_info": {
   "codemirror_mode": {
    "name": "ipython",
    "version": 3
   },
   "file_extension": ".py",
   "mimetype": "text/x-python",
   "name": "python",
   "nbconvert_exporter": "python",
   "pygments_lexer": "ipython3",
   "version": "3.7.3"
  }
 },
 "nbformat": 4,
 "nbformat_minor": 2
}
